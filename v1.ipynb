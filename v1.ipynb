{
 "cells": [
  {
   "cell_type": "code",
   "execution_count": 597,
   "metadata": {},
   "outputs": [
    {
     "name": "stdout",
     "output_type": "stream",
     "text": [
      "2.4.0+cu121 running on cuda\n"
     ]
    }
   ],
   "source": [
    "import torch\n",
    "from torch import nn\n",
    "import matplotlib.pyplot as plt\n",
    "\n",
    "device = 'cuda' if torch.cuda.is_available() else 'cpu'\n",
    "print(f\"{torch.__version__} running on {device}\")"
   ]
  },
  {
   "cell_type": "markdown",
   "metadata": {},
   "source": [
    "# GP Run for Image Classification\n",
    "Your problem needs to fulfill the following criteria.\n",
    "1. It is an image classification problem.\n",
    "2. You supply marked training images and marked validation images.\n",
    "\n",
    "Within those, the run is flexible and adapts itself to your problem.\n",
    "Now, please describe your images and problem by setting those global variables:"
   ]
  },
  {
   "cell_type": "code",
   "execution_count": 598,
   "metadata": {},
   "outputs": [],
   "source": [
    "IMAGE_WIDTH = 28 # <-- number of width-pixels\n",
    "IMAGE_HEIGHT = 28 # <-- number of height-pixels\n",
    "COLOUR_CHANNEL_COUNT = 1 # <-- RGB images would have 3\n",
    "CLASSIFICATION_CATEGORIES_COUNT = 10 # <-- the amount of possible categories of which each image shall be marked with one"
   ]
  },
  {
   "cell_type": "markdown",
   "metadata": {},
   "source": [
    "### Prepare Example Data\n",
    "To check the code, we prepare example data: Fashion MNIST."
   ]
  },
  {
   "cell_type": "code",
   "execution_count": 599,
   "metadata": {},
   "outputs": [
    {
     "name": "stdout",
     "output_type": "stream",
     "text": [
      "train_data.classes = ['T-shirt/top', 'Trouser', 'Pullover', 'Dress', 'Coat', 'Sandal', 'Shirt', 'Sneaker', 'Bag', 'Ankle boot']\n"
     ]
    }
   ],
   "source": [
    "import torchvision\n",
    "from torchvision import datasets\n",
    "from torchvision.transforms import ToTensor\n",
    "\n",
    "train_data = datasets.FashionMNIST(\n",
    "    root=\"data\", # where to download data to?\n",
    "    train=True, # get training data (and not testing data)\n",
    "    download=True, # download data if it doesn't exist on disk\n",
    "    transform=ToTensor(), # images come as PIL format, we want to turn into Torch tensors\n",
    "    target_transform=None # you can transform labels as well\n",
    ")\n",
    "test_data = datasets.FashionMNIST(root=\"data\", train=False, download=True, transform=ToTensor())\n",
    "print(f\"train_data.classes = {train_data.classes}\")"
   ]
  },
  {
   "cell_type": "code",
   "execution_count": 600,
   "metadata": {},
   "outputs": [
    {
     "name": "stdout",
     "output_type": "stream",
     "text": [
      "train_dl_f_mnist.batch_size = 32\n",
      "len(next(iter(train_dl_f_mnist))) = 2\n",
      "next(iter(train_dl_f_mnist))[0].shape = torch.Size([32, 1, 28, 28])\n",
      "len(train_dl_f_mnist) = 1875, len(test_dl_f_mnist) = 313\n"
     ]
    }
   ],
   "source": [
    "from torch.utils.data import DataLoader\n",
    "MINI_BATCH_SIZE = 32 # constant for now\n",
    "\n",
    "# Turn datasets into iterables (batches), shuffeling train data every epoch (test data not)\n",
    "train_dl_f_mnist = DataLoader(train_data, batch_size=MINI_BATCH_SIZE, shuffle=True)\n",
    "test_dl_f_mnist = DataLoader(test_data, batch_size=MINI_BATCH_SIZE, shuffle=False)\n",
    "\n",
    "print(f\"train_dl_f_mnist.batch_size = {train_dl_f_mnist.batch_size}\") \n",
    "print(f\"len(next(iter(train_dl_f_mnist))) = {len(next(iter(train_dl_f_mnist)))}\") \n",
    "print(f\"next(iter(train_dl_f_mnist))[0].shape = {next(iter(train_dl_f_mnist))[0].shape}\") \n",
    "print(f\"len(train_dl_f_mnist) = {len(train_dl_f_mnist)}, len(test_dl_f_mnist) = {len(test_dl_f_mnist)}\")"
   ]
  },
  {
   "cell_type": "code",
   "execution_count": 601,
   "metadata": {},
   "outputs": [
    {
     "name": "stdout",
     "output_type": "stream",
     "text": [
      "Image shape: torch.Size([1, 28, 28])\n"
     ]
    },
    {
     "data": {
      "image/png": "[encoded data removed]",
      "text/plain": [
       "<Figure size 640x480 with 1 Axes>"
      ]
     },
     "metadata": {},
     "output_type": "display_data"
    }
   ],
   "source": [
    "image_index = 2 # index in the batch, 0 .. 31\n",
    "train_features_batch, train_labels_batch = next(iter(train_dl_f_mnist))\n",
    "print(f\"Image shape: {train_features_batch[image_index].shape}\")\n",
    "plt.imshow(train_features_batch[image_index].squeeze(), cmap=\"gray\") # image shape is [1, 28, 28] (colour channels, height, width)\n",
    "plt.title(str(train_labels_batch[image_index].item())+\" i.e. \"+train_data.classes[train_labels_batch[image_index].item()]);"
   ]
  },
  {
   "cell_type": "markdown",
   "metadata": {},
   "source": [
    "## The Individuals' Class\n",
    "- The Hyperparamters should be passed to the constructor in a way that is both convenient for GP and for PyTorch.\n",
    "- I think I want to define a class for one `nn.Sequential` 2d-block\n",
    "    - All possible instances should be concatenable with all possible instances\n",
    "- Then, an individual is built from the concatenation of many such blocks, plus data preparation and final f.c. 2d_block"
   ]
  },
  {
   "cell_type": "code",
   "execution_count": 602,
   "metadata": {},
   "outputs": [
    {
     "data": {
      "text/plain": [
       "'\\nprint(f\"testX.shape = {testX.shape}\\ntestX[:,:3]: {testX[:,:3]}\")\\nprint(f\"testBlock1(testX).shape = {testBlock1(testX).shape}\\ntestBlock1(testX)[:1,:3]: {testBlock1(testX)[:1,:3]}\")\\n'"
      ]
     },
     "execution_count": 602,
     "metadata": {},
     "output_type": "execute_result"
    }
   ],
   "source": [
    "''' superseded later in the notebook...\n",
    "class Sequential_block_2d(nn.Module):\n",
    "    def __init__(self, \n",
    "                 out_channels: int, # the number of output neurons after the full block\n",
    "                 in_channels: int = 1, # should not be set here, but is set in Individual's __init__()\n",
    "                 conv_kernel_size: int = 3,\n",
    "                 conv_stride: int = 1,\n",
    "                 conv_padding: int = 1,\n",
    "                 pool_kernel_size: int = 2,\n",
    "                 pool_stride: int = 2,\n",
    "                 pool_padding: int = 0):\n",
    "        super().__init__()\n",
    "        self.in_channels = in_channels\n",
    "        self.out_channels = out_channels\n",
    "        self.block = nn.Sequential(\n",
    "            nn.Conv2d(in_channels=in_channels,\n",
    "                      out_channels=out_channels,\n",
    "                      kernel_size=conv_kernel_size,\n",
    "                      stride=conv_stride,\n",
    "                      padding=conv_padding),\n",
    "            nn.ReLU(),\n",
    "            nn.MaxPool2d(kernel_size=pool_kernel_size,\n",
    "                         stride=pool_stride,\n",
    "                         padding=pool_padding)\n",
    "        )\n",
    "    def forward(self, x):\n",
    "        return self.block(x)\n",
    "\n",
    "# generate some testing blocks (TODO: write actual unit tests)\n",
    "testBlock1 = Sequential_block_2d(in_channels=1,out_channels=5)\n",
    "testBlock2 = Sequential_block_2d(in_channels=5,out_channels=3)\n",
    "torch.manual_seed(42)\n",
    "'''\n",
    "testX = torch.randn(COLOUR_CHANNEL_COUNT,IMAGE_WIDTH,IMAGE_HEIGHT).to(device)\n",
    "'''\n",
    "print(f\"testX.shape = {testX.shape}\\ntestX[:,:3]: {testX[:,:3]}\")\n",
    "print(f\"testBlock1(testX).shape = {testBlock1(testX).shape}\\ntestBlock1(testX)[:1,:3]: {testBlock1(testX)[:1,:3]}\")\n",
    "'''"
   ]
  },
  {
   "cell_type": "code",
   "execution_count": 603,
   "metadata": {},
   "outputs": [
    {
     "data": {
      "text/plain": [
       "' superseded later in the notebook...\\n# class for image classification individuals\\nclass NN_individual(nn.Module):\\n    def __init__(self, blocks_2d: list[Sequential_block_2d],\\n                 in_dimensions: int = COLOUR_CHANNEL_COUNT,\\n                 out_dimensions: int = CLASSIFICATION_CATEGORIES_COUNT,\\n                 fin_res: int = 5): # output dimension of the final max pooling \\n                                    # producing size (fin_res * fin_res)\\n        super().__init__()\\n        self.blocks_2d = blocks_2d\\n        # add a final max pool\\n        # Why? Because then torch handles the dimensions through the \"adaptive\"ness\\n        self.last_max_pool_adaptive = nn.AdaptiveAvgPool2d((fin_res, fin_res))\\n        self.flatten = nn.Flatten(start_dim=0, end_dim=-1) # default start_dim = 1\\n        self.lin = nn.Linear(in_features = fin_res * fin_res * blocks_2d[-1].out_channels,\\n                      out_features = out_dimensions)\\n    def forward(self, x):\\n        for i in range(len(self.blocks_2d)):\\n            x = self.blocks_2d[i](x)\\n        x = self.last_max_pool_adaptive(x)\\n        print(f\"last_max_pool_adaptive output shape is {x.shape}\")\\n        x = self.flatten(x)\\n        print(f\"flatten output shape is {x.shape}\")\\n        x = self.lin(x)\\n        print(f\"lin output shape is {x.shape}\")\\n        return x\\n    \\ntestIndividual = NN_individual(blocks_2d=[testBlock1, testBlock2])\\ntestIndividual(testX)\\n'"
      ]
     },
     "execution_count": 603,
     "metadata": {},
     "output_type": "execute_result"
    }
   ],
   "source": [
    "''' superseded later in the notebook...\n",
    "# class for image classification individuals\n",
    "class NN_individual(nn.Module):\n",
    "    def __init__(self, blocks_2d: list[Sequential_block_2d],\n",
    "                 in_dimensions: int = COLOUR_CHANNEL_COUNT,\n",
    "                 out_dimensions: int = CLASSIFICATION_CATEGORIES_COUNT,\n",
    "                 fin_res: int = 5): # output dimension of the final max pooling \n",
    "                                    # producing size (fin_res * fin_res)\n",
    "        super().__init__()\n",
    "        self.blocks_2d = blocks_2d\n",
    "        # add a final max pool\n",
    "        # Why? Because then torch handles the dimensions through the \"adaptive\"ness\n",
    "        self.last_max_pool_adaptive = nn.AdaptiveAvgPool2d((fin_res, fin_res))\n",
    "        self.flatten = nn.Flatten(start_dim=0, end_dim=-1) # default start_dim = 1\n",
    "        self.lin = nn.Linear(in_features = fin_res * fin_res * blocks_2d[-1].out_channels,\n",
    "                      out_features = out_dimensions)\n",
    "    def forward(self, x):\n",
    "        for i in range(len(self.blocks_2d)):\n",
    "            x = self.blocks_2d[i](x)\n",
    "        x = self.last_max_pool_adaptive(x)\n",
    "        print(f\"last_max_pool_adaptive output shape is {x.shape}\")\n",
    "        x = self.flatten(x)\n",
    "        print(f\"flatten output shape is {x.shape}\")\n",
    "        x = self.lin(x)\n",
    "        print(f\"lin output shape is {x.shape}\")\n",
    "        return x\n",
    "    \n",
    "testIndividual = NN_individual(blocks_2d=[testBlock1, testBlock2])\n",
    "testIndividual(testX)\n",
    "'''"
   ]
  },
  {
   "cell_type": "code",
   "execution_count": 604,
   "metadata": {},
   "outputs": [
    {
     "data": {
      "text/plain": [
       "' superseded\\n# this way, adjacent genes (= 2d_blocks) need to have the correct dimensions\\n# e.g. the following will error:\\nbadIndividual = NN_individual([Sequential_block_2d(in_channels=1,out_channels=2), Sequential_block_2d(in_channels=3, out_channels=5)])\\ntry:\\n    print(badIndividual(testX))\\nexcept:\\n    print(\"out_channels of the first needs to match in_channels of the second!\")\\n\\n# but there\\'s more redundancy:\\the first gene needs to have the same number of in_channels as there are colour channels\\n# e.g. the following will error:\\nbadIndividual = NN_individual([Sequential_block_2d(in_channels=COLOUR_CHANNEL_COUNT + 1,out_channels=5)])\\ntry:\\n    print(badIndividual(testX))\\nexcept:\\n    print(\"in_channels of the first gene needs to match the COLOUR_CHANNEL_COUNT of the problem!\")\\n'"
      ]
     },
     "execution_count": 604,
     "metadata": {},
     "output_type": "execute_result"
    }
   ],
   "source": [
    "''' superseded\n",
    "# this way, adjacent genes (= 2d_blocks) need to have the correct dimensions\n",
    "# e.g. the following will error:\n",
    "badIndividual = NN_individual([Sequential_block_2d(in_channels=1,out_channels=2), Sequential_block_2d(in_channels=3, out_channels=5)])\n",
    "try:\n",
    "    print(badIndividual(testX))\n",
    "except:\n",
    "    print(\"out_channels of the first needs to match in_channels of the second!\")\n",
    "\n",
    "# but there's more redundancy:\\the first gene needs to have the same number of in_channels as there are colour channels\n",
    "# e.g. the following will error:\n",
    "badIndividual = NN_individual([Sequential_block_2d(in_channels=COLOUR_CHANNEL_COUNT + 1,out_channels=5)])\n",
    "try:\n",
    "    print(badIndividual(testX))\n",
    "except:\n",
    "    print(\"in_channels of the first gene needs to match the COLOUR_CHANNEL_COUNT of the problem!\")\n",
    "'''"
   ]
  },
  {
   "cell_type": "markdown",
   "metadata": {},
   "source": [
    "### Brainstorm on How to Encode Individuals\n",
    "We need to talk about this right now because we want to adapt our `NN_individual.blocks_2d` definition according to it.\n",
    "The options are:\n",
    "1. We specify `Sequential_block_2d.in_channels` and `~.out_channels` separately for each individual and only allow concatenation if the criteria are met. This is probably not super clever...\n",
    "2. Genotype-closure: The parameters that are adapted through GP will never leave the space of syntacticly correct indivuals\n",
    "    - The first gene is not allowed to choose `~.in_channels`, it must match `COLOUR_CHANNEL_COUNT`\n",
    "    - Every gene but the first is not allowed to choose `~.in_channels`, it must match `~.out_channels` of the prior gene\n",
    "    - How will this change the gene class `Sequential_block_2d`?\n",
    "        - Set `Sequential_block_2d.in_channels` only programatically, in `NN_individual.__init__()`\n",
    "        - Don't even let the genes inherit from `nn.Module`, only the individual"
   ]
  },
  {
   "cell_type": "code",
   "execution_count": 605,
   "metadata": {},
   "outputs": [
    {
     "name": "stdout",
     "output_type": "stream",
     "text": [
      "out_channels = 3 <-- (28 x 28)\n",
      "conv_2d (kernel, stride, padding) =\t(3, 1, 1) --> (28 x 28)\n",
      "max_pool_2d (kernel, stride, padding) =\t(2, 2, 0) --> (14 x 14)\n"
     ]
    }
   ],
   "source": [
    "''' Calculate the image size after a layer has been applied\n",
    "    assume all operations to be x/y symmetric '''\n",
    "def output_size(h_in, kernel_size, stride, padding):\n",
    "    h_out = (h_in + 2 * padding - (kernel_size - 1) - 1) // stride + 1\n",
    "    #w_out = (w_in + 2 * padding[1] - dilation[1] * (kernel_size[1] - 1) - 1) // stride[1] + 1\n",
    "    return h_out # = w_out\n",
    "\n",
    "# class for the genetic information of one 2d block\n",
    "class Gene_2d_block:\n",
    "    def __init__(self,\n",
    "                 input_image_size: int,\n",
    "                 out_channels: int,\n",
    "                 conv_kernel_size: int = 3,\n",
    "                 conv_stride: int = 1,\n",
    "                 conv_padding: int = 1,\n",
    "                 pool_kernel_size: int = 2,\n",
    "                 pool_stride: int = 2,\n",
    "                 pool_padding: int = 0):\n",
    "        self.input_image_size = input_image_size\n",
    "        self.out_channels = out_channels\n",
    "        self.in_channels = None\n",
    "        self.conv_kernel_size = conv_kernel_size\n",
    "        self.conv_stride = conv_stride\n",
    "        self.conv_padding = conv_padding\n",
    "        self.pool_kernel_size = pool_kernel_size\n",
    "        self.pool_stride = pool_stride\n",
    "        self.pool_padding = pool_padding\n",
    "\n",
    "        self.after_conv_image_size = output_size(input_image_size, conv_kernel_size, conv_stride, conv_padding)\n",
    "        self.output_image_size = output_size(self.after_conv_image_size, pool_kernel_size, pool_stride, pool_padding)\n",
    "\n",
    "    def toString(self, tab_count: int = 0):\n",
    "        indentation = \"\"\n",
    "        for tab in range(tab_count): indentation += f\"\\t\"\n",
    "        return f\"{indentation}out_channels = {self.out_channels} <-- ({self.input_image_size} x {self.input_image_size})\\n\"+\\\n",
    "        f\"{indentation}conv_2d (kernel, stride, padding) =\\t({self.conv_kernel_size}, {self.conv_stride}, {self.conv_padding}) --> ({self.after_conv_image_size} x {self.after_conv_image_size})\\n\"+\\\n",
    "        f\"{indentation}max_pool_2d (kernel, stride, padding) =\\t({self.pool_kernel_size}, {self.pool_stride}, {self.pool_padding}) --> ({self.output_image_size} x {self.output_image_size})\"\n",
    "\n",
    "print(Gene_2d_block(IMAGE_WIDTH, 3).toString())"
   ]
  },
  {
   "cell_type": "code",
   "execution_count": 606,
   "metadata": {},
   "outputs": [
    {
     "data": {
      "text/plain": [
       "' this is supserseded below...\\n# class for image classification individuals\\nclass NN_individual(nn.Module):\\n    def __init__(self, genes_2d_block: list[Gene_2d_block], name=\"nn0\"): \\n        super().__init__()\\n        self.name=name # a name for easier tracking inside a GP run\\n        # build the full sequential from the gene information (genes_2d_block)\\n        self.blocks_2d = nn.Sequential()\\n        # the first 2d_block needs to have as many in_channels as there are colour channels\\n        # the others need to have as in_channels the number of out_channels from the previous block\\n        for i in range(len(genes_2d_block)):\\n            if i == 0:\\n                in_channels = COLOUR_CHANNEL_COUNT\\n            else:\\n                in_channels = genes_2d_block[i-1].out_channels\\n            self.blocks_2d.append(nn.Sequential(\\n                nn.Conv2d(in_channels=in_channels,\\n                    out_channels=genes_2d_block[i].out_channels,\\n                    kernel_size=genes_2d_block[i].conv_kernel_size,\\n                    stride=genes_2d_block[i].conv_stride,\\n                    padding=genes_2d_block[i].conv_padding),\\n                nn.ReLU(),\\n                nn.MaxPool2d(kernel_size=genes_2d_block[i].pool_kernel_size,\\n                    stride=genes_2d_block[i].pool_stride,\\n                    padding=genes_2d_block[i].pool_padding)))\\n        self.flatten = nn.Flatten(start_dim=0, end_dim=-1) # default start_dim = 1\\n        self.lazyLin = nn.LazyLinear(out_features = CLASSIFICATION_CATEGORIES_COUNT) # automatically infers the number of channels\\n    def forward(self, x):\\n        for i in range(len(self.blocks_2d)):\\n            x = self.blocks_2d[i](x)\\n        x = self.flatten(x)\\n        #print(f\"flatten output shape is {x.shape}\")\\n        x = self.lazyLin(x)\\n        #print(f\"lin output shape is {x.shape}\")\\n        return x\\n    \\ntestIndividual = NN_individual(genes_2d_block=[Gene_2d_block(out_channels=4), Gene_2d_block(out_channels=7)])\\ntestIndividual, testIndividual(testX)\\n'"
      ]
     },
     "execution_count": 606,
     "metadata": {},
     "output_type": "execute_result"
    }
   ],
   "source": [
    "''' this is supserseded below...\n",
    "# class for image classification individuals\n",
    "class NN_individual(nn.Module):\n",
    "    def __init__(self, genes_2d_block: list[Gene_2d_block], name=\"nn0\"): \n",
    "        super().__init__()\n",
    "        self.name=name # a name for easier tracking inside a GP run\n",
    "        # build the full sequential from the gene information (genes_2d_block)\n",
    "        self.blocks_2d = nn.Sequential()\n",
    "        # the first 2d_block needs to have as many in_channels as there are colour channels\n",
    "        # the others need to have as in_channels the number of out_channels from the previous block\n",
    "        for i in range(len(genes_2d_block)):\n",
    "            if i == 0:\n",
    "                in_channels = COLOUR_CHANNEL_COUNT\n",
    "            else:\n",
    "                in_channels = genes_2d_block[i-1].out_channels\n",
    "            self.blocks_2d.append(nn.Sequential(\n",
    "                nn.Conv2d(in_channels=in_channels,\n",
    "                    out_channels=genes_2d_block[i].out_channels,\n",
    "                    kernel_size=genes_2d_block[i].conv_kernel_size,\n",
    "                    stride=genes_2d_block[i].conv_stride,\n",
    "                    padding=genes_2d_block[i].conv_padding),\n",
    "                nn.ReLU(),\n",
    "                nn.MaxPool2d(kernel_size=genes_2d_block[i].pool_kernel_size,\n",
    "                    stride=genes_2d_block[i].pool_stride,\n",
    "                    padding=genes_2d_block[i].pool_padding)))\n",
    "        self.flatten = nn.Flatten(start_dim=0, end_dim=-1) # default start_dim = 1\n",
    "        self.lazyLin = nn.LazyLinear(out_features = CLASSIFICATION_CATEGORIES_COUNT) # automatically infers the number of channels\n",
    "    def forward(self, x):\n",
    "        for i in range(len(self.blocks_2d)):\n",
    "            x = self.blocks_2d[i](x)\n",
    "        x = self.flatten(x)\n",
    "        #print(f\"flatten output shape is {x.shape}\")\n",
    "        x = self.lazyLin(x)\n",
    "        #print(f\"lin output shape is {x.shape}\")\n",
    "        return x\n",
    "    \n",
    "testIndividual = NN_individual(genes_2d_block=[Gene_2d_block(out_channels=4), Gene_2d_block(out_channels=7)])\n",
    "testIndividual, testIndividual(testX)\n",
    "'''"
   ]
  },
  {
   "cell_type": "markdown",
   "metadata": {},
   "source": [
    "## GP Code\n",
    "Now we need to decide the genetic stuff.\n",
    "1. Initial Population\n",
    "2. Fitness Measure\n",
    "3. Selection\n",
    "4. Genetic Operators\n",
    "    - Cloning or Crossover\n",
    "    - Mutation\n",
    "    \n",
    "### Hyperparameter-landscape is vast. Here's a list:\n",
    "- Net architecture\n",
    "    - kind of layers, number of layers\n",
    "        - for convolution/pooling: kernel size, stride, padding, (dilation) **[implemented]**\n",
    "    - number of neurons per layer\n",
    "    - activation function for each layer\n",
    "- cost function\n",
    "    - base term (e.g. square cost, log-likelihood, cross-entropy, ect.)\n",
    "    - toppings \n",
    "        - regularization of weights (L2, L1, dropout, etc.)\n",
    "- weights and biases optimization technique (= optimizer)\n",
    "    - SGD (= stochastic gradient descent)\n",
    "    - Hessian technique, i.e. momentum-based descent\n",
    "    - PyTorch's various other (e.g. *Adam* optimizer)\n",
    "- learning parameters\n",
    "    - η ... learning rate\n",
    "        - constant, or epoch-dependent, or accuracy-dependent, or a mix\n",
    "    - \\# of epochs\n",
    "        - constant, or early stopping\n",
    "    - (`mini_batch_size` - this one might be canonical)"
   ]
  },
  {
   "cell_type": "markdown",
   "metadata": {},
   "source": [
    "### Encode Within-One-Gen-Constant Hyperparameters in `NN_individual`\n",
    "We now bake:\n",
    "- the individual-specific, hyperparameters (that don't change within one gen)\n",
    "- the fitness dictionaries\n",
    "\n",
    "into parameters of the `NN_individual` class.\n",
    "\n",
    "We construct this class from a `NN_dna` class that contains all the genetic information necessary to build the `NN_individual`."
   ]
  },
  {
   "cell_type": "code",
   "execution_count": 607,
   "metadata": {},
   "outputs": [],
   "source": [
    "# class containing various genes (with their vanilla values) and the G2P mappings\n",
    "class NN_dna():\n",
    "    def __init__(self,\n",
    "                 blocks_2d: list[Gene_2d_block] = [],\n",
    "                 optimizer: int = 0,\n",
    "                 lr: float = .1,\n",
    "                 loss_fn: int = 0,\n",
    "                 ) -> None:\n",
    "        self.blocks_2d_gene = blocks_2d\n",
    "        self.optimizer_gene = optimizer\n",
    "        self.lr = lr\n",
    "        self.loss_fn_gene = loss_fn\n",
    "    \n",
    "    #### Genotype To Phenotype Mappings (G2P) ####\n",
    "    def blocks_2d_G2P(self):\n",
    "        ''' build 'n return the full sequential from the gene information (genes_2d_block) \n",
    "            the first 2d_block needs to have as many in_channels as there are colour channels\n",
    "            the others need to have as in_channels the number of out_channels from the previous block\n",
    "            there's a nn.Module (Lazy*) that automatically infers the number of in_channels - not used here '''\n",
    "        blocks_2d = nn.Sequential()\n",
    "        for i in range(len(self.blocks_2d_gene)):\n",
    "            if i == 0:\n",
    "                in_channels = COLOUR_CHANNEL_COUNT\n",
    "            else:\n",
    "                in_channels = self.blocks_2d_gene[i-1].out_channels\n",
    "            blocks_2d.append(nn.Sequential(\n",
    "                nn.Conv2d(in_channels=in_channels,\n",
    "                    out_channels=self.blocks_2d_gene[i].out_channels,\n",
    "                    kernel_size=self.blocks_2d_gene[i].conv_kernel_size,\n",
    "                    stride=self.blocks_2d_gene[i].conv_stride,\n",
    "                    padding=self.blocks_2d_gene[i].conv_padding),\n",
    "                nn.ReLU(),\n",
    "                nn.MaxPool2d(kernel_size=self.blocks_2d_gene[i].pool_kernel_size,\n",
    "                    stride=self.blocks_2d_gene[i].pool_stride,\n",
    "                    padding=self.blocks_2d_gene[i].pool_padding)))\n",
    "        return blocks_2d\n",
    "        \n",
    "    optimizer_dict = {0: \"SGD\", 1: \"adam\"}\n",
    "    def optimizer_G2P(self, model_parameters):\n",
    "        if self.optimizer_gene == 0: return torch.optim.SGD(model_parameters, lr=self.lr)\n",
    "        if self.optimizer_gene == 1: return torch.optim.Adam(model_parameters, lr=self.lr)\n",
    "        raise ValueError(f\"'{self.optimizer_gene}' is not a gene for which we have an optimizer encoded.\")\n",
    "    \n",
    "    loss_fn_dict = {0: \"CrossEn\", 1: \"L1\", 2: \"Huber\"}\n",
    "    def loss_fn_G2P(self):\n",
    "        if self.loss_fn_gene == 0: return nn.CrossEntropyLoss()\n",
    "        if self.loss_fn_gene == 1: return nn.L1Loss()\n",
    "        if self.loss_fn_gene == 2: return nn.HuberLoss()\n",
    "        raise ValueError(f\"'{self.loss_fn_gene}' is not a gene for which we have a loss function encoded.\")\n",
    "\n",
    "    def toString(self):\n",
    "        s = \"(\"\n",
    "        for i, block in enumerate(self.blocks_2d_gene):\n",
    "            s += f\"{block.out_channels},\"         # e.g. (1,7,)\n",
    "        s += f\") {self.optimizer_dict[self.optimizer_gene]}\"  # e.g. SGD\n",
    "        s += f\" & {self.loss_fn_dict[self.loss_fn_gene]}\"     # e.g. & CrossEn\n",
    "        s += f\" @ {self.lr:.2g}\"                  # e.g. @ 1.1\n",
    "        return s"
   ]
  },
  {
   "cell_type": "code",
   "execution_count": 608,
   "metadata": {},
   "outputs": [
    {
     "data": {
      "text/plain": [
       "(NN_individual(\n",
       "   (blocks_2d): Sequential()\n",
       "   (flatten): Flatten(start_dim=1, end_dim=-1)\n",
       "   (lazyLin): Linear(in_features=784, out_features=10, bias=True)\n",
       "   (loss_fn): CrossEntropyLoss()\n",
       " ),\n",
       " tensor([[-0.7092, -0.0521, -0.1470, -0.5012,  0.7307,  1.0083,  0.1340,  0.4295,\n",
       "          -0.0470,  0.4186]], device='cuda:0', grad_fn=<AddmmBackward0>))"
      ]
     },
     "execution_count": 608,
     "metadata": {},
     "output_type": "execute_result"
    }
   ],
   "source": [
    "''' class for image classification individuals\n",
    "    Essentially, it converts NN_dna (provided to __init__)\n",
    "    into a working NN with a forward method\n",
    "'''\n",
    "class NN_individual(nn.Module):\n",
    "    def __init__(self, \n",
    "                 dna: NN_dna = NN_dna(),    # <- contains all genes\n",
    "                 name: str = \"nn0\",         # <- name unique within a population/generation\n",
    "                 device = device):\n",
    "        super().__init__()\n",
    "        self.dna = dna\n",
    "        self.blocks_2d = dna.blocks_2d_G2P()\n",
    "        self.flatten = nn.Flatten(start_dim=1, end_dim=-1) # default is: start_dim = 1\n",
    "        self.lazyLin = nn.LazyLinear(out_features = CLASSIFICATION_CATEGORIES_COUNT) # automatically infers the number of channels\n",
    "        self.name = name\n",
    "        self.lr = dna.lr\n",
    "        self.optimizer = dna.optimizer_G2P(self.parameters())\n",
    "        self.loss_fn = dna.loss_fn_G2P()\n",
    "        self.to(device)\n",
    "        self.device = device\n",
    "\n",
    "        self.acc = 0\n",
    "        self.running_acc = 0\n",
    "        self.train_losses = {}\n",
    "        self.test_losses = {}\n",
    "        self.accs = {}\n",
    "        self.elapsed_training_time = 0\n",
    "        \n",
    "    def forward(self, x):\n",
    "        for i in range(len(self.blocks_2d)):\n",
    "            x = self.blocks_2d[i](x)\n",
    "        x = self.flatten(x)\n",
    "        x = self.lazyLin(x)\n",
    "        return x\n",
    "    \n",
    "testIndividual = NN_individual()#genes_2d_block=[Gene_2d_block(out_channels=4), Gene_2d_block(out_channels=7)])\n",
    "testIndividual, testIndividual(testX)"
   ]
  },
  {
   "cell_type": "markdown",
   "metadata": {},
   "source": [
    "### Visualize, Visualize, Visualize\n",
    "Create a class called population of which an instance acts as an array of `NN_individual`s with extra functionality that regards the whole population."
   ]
  },
  {
   "cell_type": "code",
   "execution_count": 609,
   "metadata": {},
   "outputs": [],
   "source": [
    "# created by Chat\n",
    "class NN_population:\n",
    "    ### Magic Methods ###\n",
    "    def __init__(self, individuals: list[NN_individual]): self.individuals = individuals\n",
    "    def __getitem__(self, index): return self.individuals[index]  # magic pop[i] access\n",
    "    def __len__(self): return len(self.individuals)  # magic len(pop)\n",
    "    def __setitem__(self, index, value): self.individuals[index] = value  # magic pop[i] = value\n",
    "    def __iter__(self): return iter(self.individuals)  # magic for-iterations\n",
    "    \n",
    "    def plot_accs(self, elapsed_time = 0):\n",
    "        plt.figure(figsize=(15, 6))  # Set the figure size\n",
    "        for ind in self.individuals:\n",
    "            x = list(ind.accs.keys())  # Extract the epoch/batch labels (x-axis)\n",
    "            y = [float(val.cpu().item()*100) for val in ind.accs.values()]  # Convert tensors to floats\n",
    "            # Plot each individual's accuracies\n",
    "            plt.plot(x, y, marker='o', linestyle='-', label=f\"{ind.name} ({ind.elapsed_training_time:.1f}s, running acc {ind.running_acc:.2f})\")\n",
    "        plt.xlabel('Epoch@Batch')  # Label for the x-axis\n",
    "        plt.ylabel('Accuracy [%]')     # Label for the y-axis\n",
    "        extra_title = \"\" if elapsed_time == 0 else f\" (took {elapsed_time:.2f}s)\"\n",
    "        plt.title('Accuracy per Epoch and Batch' + extra_title)  # Title of the plot\n",
    "        plt.xticks(rotation=45, ha='right')  # Rotate the x-axis labels for better readability\n",
    "        plt.grid(True)  # Show grid\n",
    "        plt.legend(loc='upper left', bbox_to_anchor=(1, 1)) # legend on the right\n",
    "        plt.tight_layout(rect=[0, 0, 0.85, 1])  # Adjust plot area size to leave space for the legend\n",
    "        plt.show()"
   ]
  },
  {
   "cell_type": "markdown",
   "metadata": {},
   "source": [
    "### Create Random Population"
   ]
  },
  {
   "cell_type": "code",
   "execution_count": 610,
   "metadata": {},
   "outputs": [
    {
     "name": "stdout",
     "output_type": "stream",
     "text": [
      "oh, oh! exception\n"
     ]
    }
   ],
   "source": [
    "import random\n",
    "\n",
    "def create_random_2d_block(input_image_size, max_kernel_size: int) -> Gene_2d_block:\n",
    "    conv_kernel_size=min(random.randint(1,min(input_image_size, max_kernel_size)), random.randint(1,min(input_image_size, max_kernel_size))) # kernel must be smaller than image size!\n",
    "    conv_stride=random.randint(1,conv_kernel_size)\n",
    "    conv_padding=random.randint(0,conv_kernel_size//2) # PyTorch: \"pad should be at most half of effective kernel size\"\n",
    "    after_conv_i_s = output_size(input_image_size, conv_kernel_size, conv_stride, conv_padding)\n",
    "    pool_kernel_size=min(random.randint(1,min(after_conv_i_s, max_kernel_size)), random.randint(1,min(after_conv_i_s, max_kernel_size)), random.randint(1,min(after_conv_i_s, max_kernel_size)))\n",
    "    if conv_kernel_size == 0 or pool_kernel_size == 0:\n",
    "        print(\"Exception! A kernel size is 0, which is not allowed.\")\n",
    "        print(f\"input_image_size {input_image_size}, max_kernel_size {max_kernel_size}, conv_kernel_size {conv_kernel_size}, conv_stride {conv_stride}, conv_padding {conv_padding}, after_conv_image_size {after_conv_i_s}, pool_kernel_size {pool_kernel_size}\")\n",
    "    pool_stride=max(random.randint(1,pool_kernel_size), random.randint(1,pool_kernel_size))\n",
    "    pool_padding=random.randint(0,pool_kernel_size//2) # PyTorch: \"pad should be at most half of effective kernel size\"\n",
    "    return Gene_2d_block(\n",
    "        input_image_size=input_image_size,\n",
    "        out_channels=random.randint(3,15), # not fine-tuned\n",
    "        conv_kernel_size=conv_kernel_size,\n",
    "        conv_padding=conv_padding,\n",
    "        conv_stride=conv_stride,\n",
    "        pool_kernel_size=pool_kernel_size,\n",
    "        pool_padding=pool_padding,\n",
    "        pool_stride=pool_stride\n",
    "    )\n",
    "\n",
    "def update_and_check_2d_block_stack(gene_2d_blocks: list[Gene_2d_block]):\n",
    "    protocol = \"\"\n",
    "    if len(gene_2d_blocks) == 0: return \"no block in the stack\"\n",
    "    if gene_2d_blocks[0].input_image_size != IMAGE_HEIGHT:\n",
    "        gene_2d_blocks[0].input_image_size != IMAGE_HEIGHT\n",
    "        protocol += f\"block[0]'s input_image_size was set to IMAGE_HEIGHT ({IMAGE_HEIGHT}), \" \n",
    "    for i, block in enumerate(gene_2d_blocks):\n",
    "        if i > 0 and block.input_image_size != gene_2d_blocks[i-1].output_image_size:\n",
    "            block.input_image_size = gene_2d_blocks[i-1].output_image_size\n",
    "            protocol += f\"block[{i}]'s input_image_size was set to block[{i-1}]'s output_image_size ({block.input_image_size}), \"\n",
    "            block.after_conv_image_size = output_size(block.input_image_size, block.conv_kernel_size, block.conv_stride, block.conv_padding) # update the effective image size after convolution\n",
    "        if block.input_image_size < block.conv_kernel_size:\n",
    "            block.conv_kernel_size = block.input_image_size\n",
    "            protocol += f\"block[{i}]'s conv_kernel_size was decreased to input_image_size ({block.conv_kernel_size}), \"\n",
    "        if block.conv_padding > block.conv_kernel_size // 2:\n",
    "            block.conv_padding = block.conv_kernel_size // 2\n",
    "            protocol += f\"block[{i}]'s conv_padding was decreased to conv_kernel_size//2 ({block.conv_kernel_size // 2}), \"\n",
    "        if block.after_conv_image_size < block.pool_kernel_size:\n",
    "            block.pool_kernel_size = block.after_conv_image_size\n",
    "            protocol += f\"block[{i}]'s pool_kernel_size was decreased to after_conv_size ({block.pool_kernel_size}), \"\n",
    "        if block.pool_padding > block.pool_kernel_size // 2:\n",
    "            block.pool_padding = block.pool_kernel_size // 2\n",
    "            protocol += f\"block[{i}]'s pool_padding was decreased to pool_kernel_size//2 ({block.pool_kernel_size // 2}), \"\n",
    "    return protocol\n",
    "    \n",
    "def create_random_population(pop_size: int, \n",
    "                             max_2d_block_count: int = 3, \n",
    "                             max_kernel_size: int = 11,\n",
    "                             name_prefix=\"nn\",\n",
    "                             device=\"cpu\",\n",
    "                             print_summary: bool = True) -> NN_population:\n",
    "    population = []\n",
    "    for i in range(pop_size):\n",
    "        genes_2d_block = []\n",
    "        input_image_size = IMAGE_HEIGHT # = IMAGE_WIDTH (assumed)\n",
    "        name=name_prefix+str(i)\n",
    "        if print_summary: print(f\"Individual '{name}' <-- ({input_image_size} x {input_image_size})\")\n",
    "        for j in range(random.randint(1, max_2d_block_count)):\n",
    "            if print_summary: print(f\"\\tBlock {j}\")\n",
    "            # create a random conv-pool block and store the corresponding new input_image_size for the block thereafter\n",
    "            block = create_random_2d_block(input_image_size, max_kernel_size)\n",
    "            input_image_size = block.output_image_size\n",
    "            genes_2d_block.append(block)\n",
    "            if print_summary: print(f\"{block.toString(tab_count=2)} --> ({input_image_size} x {input_image_size})\")\n",
    "        dna = NN_dna(blocks_2d=genes_2d_block,\n",
    "                    # here you can change the remaining hyperparameters\n",
    "                    )\n",
    "        population.append(NN_individual(dna=dna, name=name, device=device))\n",
    "    return NN_population(population)\n",
    "testPop = create_random_population(pop_size=7, max_2d_block_count=3, print_summary=False)\n",
    "try:\n",
    "    for ind in testPop:\n",
    "        ind.eval()\n",
    "        with torch.inference_mode():\n",
    "            ind(testX)\n",
    "except:\n",
    "    print(\"oh, oh! exception\")"
   ]
  },
  {
   "cell_type": "markdown",
   "metadata": {},
   "source": [
    "### Fitness Evaluation\n",
    "We want a population that:\n",
    "- achieves high (validation/test data) accuracy after training\n",
    "    - the final accuracy `acc(NN1(t_final))` of an individual `NN1` is used\n",
    "- trains fast, i.e. takes little CPU time to achieve high accuracy called **Running Accuracy**\n",
    "    - the individual's accuracy `acc(NN1(t))` is summed over given timestamps `t`, like `Σ_t{acc(NN1(t))}`\n",
    "    - possibly we want to value early accuracy more, summing `Σ_t{acc(NN1(t))/t}` instead"
   ]
  },
  {
   "cell_type": "code",
   "execution_count": 611,
   "metadata": {},
   "outputs": [],
   "source": [
    "import torchmetrics\n",
    "from torchmetrics import functional\n",
    "import time"
   ]
  },
  {
   "cell_type": "code",
   "execution_count": 612,
   "metadata": {},
   "outputs": [],
   "source": [
    "def train_model_one_batch(ind: NN_individual, # <- model to be trained in-place\n",
    "                          X, y,               # <- train batch, e.g. X.shape = [32, 1, 28, 28]\n",
    "                          ) -> tuple[float, float]:\n",
    "  train_loss = 0\n",
    "  start_time = time.perf_counter() # Start timing\n",
    "  ind.train()\n",
    "  X, y = X.to(ind.device), y.to(ind.device)\n",
    "  y_pred = ind(X)\n",
    "  loss = ind.loss_fn(y_pred, y)\n",
    "  train_loss += loss\n",
    "  ind.optimizer.zero_grad()\n",
    "  loss.backward()\n",
    "  ind.optimizer.step()\n",
    "  end_time = time.perf_counter() # Stop timing\n",
    "  return (train_loss, end_time-start_time)\n",
    "\n",
    "def test_model(ind: NN_individual,            # <- model to be tested\n",
    "               test_dl,                       # <- test dataloader (= multiple batches)\n",
    "               ) -> tuple[float, float]:      # -> return (loss_total, acc_total)\n",
    "  loss_total, acc_total = 0, 0\n",
    "  ind.eval()\n",
    "  with torch.inference_mode():\n",
    "    for batch, (X, y) in enumerate(test_dl):\n",
    "      X, y = X.to(ind.device), y.to(ind.device)\n",
    "      preds = ind(X)\n",
    "      loss_batch = ind.loss_fn(preds, y)\n",
    "      loss_total += loss_batch\n",
    "      acc_batch = functional.accuracy(preds, y, task=\"multiclass\", num_classes=CLASSIFICATION_CATEGORIES_COUNT)\n",
    "      acc_total += acc_batch\n",
    "\n",
    "    loss_total /= len(test_dl)\n",
    "    acc_total /= len(test_dl)\n",
    "  return (loss_total, acc_total)"
   ]
  },
  {
   "cell_type": "markdown",
   "metadata": {},
   "source": [
    "We now train the whole population simultaneously, populating the individuals' fitness value parameters:\n",
    "- `train_losses` ... a dictionary filled with the train loss function results for each batch (independent of how often we test, because it comes for free)\n",
    "- `test_losses` ... same as above but evaluating on test data instead, and only whenever we choose to test (obviously; this is not free)\n",
    "- `accs` ... a dictionary with same keys as `test_losses`, filled with the fraction of correct model predictions by total number of predictions\n",
    "- `acc` ... a single number - the most recent accuracy (defined similarly as `accs`)\n",
    "- `running_acc` ... a single number - the sum of all known accuracies (i.e. at all times where we tested), divided by the time\n",
    "    - here, we exclude the first accuracy because the division is very big in that case, and accuracy only depends mainly on weight initialization"
   ]
  },
  {
   "cell_type": "code",
   "execution_count": 613,
   "metadata": {},
   "outputs": [],
   "source": [
    "from tqdm import tqdm\n",
    "from torch.utils.data import Subset\n",
    "from IPython.display import clear_output\n",
    "\n",
    "def train_and_evaluate_gen(pop: NN_population,\n",
    "                           train_dl,  # <- train dataloader\n",
    "                           test_dl,   # <- test dataloader\n",
    "                           testing_interval = 300,      # <- after how many batches should we test an individual\n",
    "                           testing_data_fraction = 1.0, # <- amount of test_dl to be used (1=100% takes a lot of time)\n",
    "                           training_data_fraction = 1.0,# <- amount of train_dl to be used (1=100% takes a lot of time)\n",
    "                           epochs = 5,\n",
    "                           live_plot = True,\n",
    "                           only_last_plot = False,\n",
    "                           no_plot = False):\n",
    "  start_time = time.perf_counter() # Start timing\n",
    "\n",
    "  # prepare the reduced testing data loader\n",
    "  random_batch_indices = random.sample(range(len(test_dl)), int(len(test_dl)*test_dl.batch_size * testing_data_fraction)) # random indices (without replacement)\n",
    "  test_subset = Subset(test_dl.dataset, random_batch_indices)\n",
    "  test_subset_dl = DataLoader(test_subset, batch_size=test_dl.batch_size, shuffle=False, num_workers=test_dl.num_workers)\n",
    "\n",
    "  # prepare the reduced training data loader ()\n",
    "  first_indices = list(range(int(len(train_dl)*train_dl.batch_size * training_data_fraction)))\n",
    "  train_subset = Subset(train_dl.dataset, first_indices)\n",
    "  train_subset_dl = DataLoader(train_subset, batch_size=train_dl.batch_size, shuffle=False, num_workers=train_dl.num_workers)\n",
    "\n",
    "  # re-initialize pop's fitness values:\n",
    "  for ind in pop:\n",
    "    ind.acc, ind.running_acc = 0, 0\n",
    "    ind.train_losses, ind.test_losses, ind.accs = {}, {}, {}\n",
    "  \n",
    "  # train each individual \"simultaneously\" by making the epoch-loop the outer one\n",
    "  for epoch in range(epochs):\n",
    "    print(f\"*** Commencing epoch {epoch+1} / {epochs} for {len(pop)} individuals, one line each. ***\")\n",
    "    for i in range(len(pop)):\n",
    "      for batch, (X, y) in tqdm(enumerate(train_subset_dl),desc=f\"{i+1}. {pop[i].name}({pop[i].dna.toString()})\"):\n",
    "        # train the model (update the weights and biases of the NN pop[i])\n",
    "        pop[i].train_losses[f\"e_{epoch}@b_{batch}\"], elapsed_batch_training_time = train_model_one_batch(pop[i], X=X, y=y)\n",
    "        pop[i].elapsed_training_time += elapsed_batch_training_time\n",
    "        if batch % testing_interval == 0: \n",
    "          # test the model and store the results\n",
    "          pop[i].test_losses[f\"e_{epoch}@b_{batch}\"], pop[i].accs[f\"e_{epoch}@b_{batch}\"] = test_model(pop[i], test_dl=test_subset_dl)\n",
    "          if batch != 0: # don't use the start/benchmark test as this depends mostly on luck of weight initialization\n",
    "            pop[i].running_acc += pop[i].accs[f\"e_{epoch}@b_{batch}\"] / pop[i].elapsed_training_time\n",
    "          if live_plot and not only_last_plot and not no_plot:\n",
    "            clear_output(wait=True)\n",
    "            pop.plot_accs(time.perf_counter() - start_time)\n",
    "      pop[i].test_losses[f\"e_{epoch}@end\"], pop[i].accs[f\"e_{epoch}@end\"] = test_model(pop[i], test_dl=test_dl) # latest precise values\n",
    "      pop[i].acc = pop[i].accs[f\"e_{epoch}@end\"] # store the very last known accuracy\n",
    "      if not live_plot and not only_last_plot and not no_plot:\n",
    "        clear_output(wait=True)\n",
    "        pop.plot_accs(time.perf_counter() - start_time)\n",
    "    # here we could select directly, i.e. before the whole train_dl over max_epochs no. of iterations has been trained\n",
    "\n",
    "  if not no_plot and not only_last_plot:\n",
    "    clear_output(wait=True)\n",
    "    pop.plot_accs(time.perf_counter() - start_time)\n",
    "  elif not no_plot and only_last_plot:\n",
    "    pop.plot_accs(time.perf_counter() - start_time)\n",
    "  else:  \n",
    "    print(f\"This took {time.perf_counter() - start_time:.2f}s.\")\n",
    "      "
   ]
  },
  {
   "cell_type": "markdown",
   "metadata": {},
   "source": [
    "### Test with Example Data\n",
    "Use the example dataloaders to populate the fitness values for a generation."
   ]
  },
  {
   "cell_type": "code",
   "execution_count": 614,
   "metadata": {},
   "outputs": [
    {
     "data": {
      "text/plain": [
       "'cuda'"
      ]
     },
     "execution_count": 614,
     "metadata": {},
     "output_type": "execute_result"
    }
   ],
   "source": [
    "pop = create_random_population(pop_size=4, max_2d_block_count=4, max_kernel_size=7, name_prefix=\"gen0.\", device=device, print_summary=False)\n",
    "pop[0].device"
   ]
  },
  {
   "cell_type": "code",
   "execution_count": 615,
   "metadata": {},
   "outputs": [
    {
     "data": {
      "application/vnd.jupyter.widget-view+json": {
       "model_id": "f94064d65e134395846fb3bf9ca566ea",
       "version_major": 2,
       "version_minor": 0
      },
      "text/plain": [
       "interactive(children=(Dropdown(description='x', options=('a', 'b', 'c'), value='a'), Dropdown(description='y',…"
      ]
     },
     "execution_count": 615,
     "metadata": {},
     "output_type": "execute_result"
    }
   ],
   "source": [
    "import numpy as np\n",
    "import pandas as pd\n",
    "import matplotlib.pyplot as plt\n",
    "from ipywidgets import interactive\n",
    "%matplotlib inline\n",
    "\n",
    "columns=['a','b','c']\n",
    "data = np.cumsum(np.random.rand(10,3),axis=1)\n",
    "df = pd.DataFrame(data,columns=columns)\n",
    "\n",
    "def g(x,y):\n",
    "    plt.scatter(df[x], df[y])\n",
    "    plt.show()\n",
    "\n",
    "interactive_plot = interactive(g, x=columns, y=columns)\n",
    "interactive_plot\n"
   ]
  },
  {
   "cell_type": "code",
   "execution_count": 616,
   "metadata": {},
   "outputs": [],
   "source": [
    "#train_and_evaluate_gen(pop, train_dl_f_mnist, test_dl_f_mnist, testing_interval=200, epochs=1, testing_data_fraction=.1, live_plot=False)"
   ]
  },
  {
   "cell_type": "markdown",
   "metadata": {},
   "source": [
    "### Mutate\n",
    "Should be guided by randomness, and not too radical.\n",
    "1. Fix a bound of *radicalities* fixed at 1.\n",
    "2. Each possible operation of mutation needs to come with a *factor of impact* **λ**\n",
    "    - e.g. delete/add 2d block: **λ = 5**\n",
    "    - e.g. learning rate times 1.1: **λ = 0.5**\n",
    "3. Now we spin the wheels for each call of `mutate_individual`:\n",
    "    - random radicality **0 < R < 1**\n",
    "    - random raw likelihood **0 < p < 1** for each possible operation\n",
    "    - execute an operation iff **λ•p < R** where **λ** and **p** correspond to the operation in question"
   ]
  },
  {
   "cell_type": "code",
   "execution_count": 617,
   "metadata": {},
   "outputs": [],
   "source": [
    "import copy\n",
    "MAX_KERNEL_SIZE = 11\n",
    "class Mutation():\n",
    "    def __init__(self):\n",
    "        self.R = random.random() # <- radicality of this mutation instance\n",
    "\n",
    "    ### factors of impact ###\n",
    "    impact_lr_factor_1_1=.3\n",
    "    impact_lr_factor_10=3\n",
    "    impact_add_neuron_to_2d_block=1\n",
    "    impact_delete_neuron_from_2d_block=1\n",
    "    impact_add_2d_block=5\n",
    "    impact_delete_2d_block=5\n",
    "    impact_increase_kernel=.8\n",
    "    impact_decrease_kernel=.8\n",
    "    impact_change_optimizer=10\n",
    "    impact_change_loss_fn=10\n",
    "\n",
    "    ### possible operations (p_raw = 0 will happen most likely, p_raw = 1 least likely, p_raw = -1 definitely) ###\n",
    "    def lr_factor_1_1(self, dna: NN_dna, p_raw: float = -1):\n",
    "        if p_raw * self.impact_lr_factor_1_1 < self.R:\n",
    "            if random.random() > .5:\n",
    "                dna.lr *= 1.1\n",
    "                return \"multiplied lr by 1.1\"\n",
    "            else:\n",
    "                dna.lr /= 1.1\n",
    "                return \"divided lr by 1.1\"\n",
    "    def lr_factor_10(self, dna: NN_dna, p_raw: float = -1):\n",
    "        if p_raw * self.impact_lr_factor_10 < self.R:\n",
    "            if random.random() > .5:\n",
    "                dna.lr *= 10\n",
    "                return \"multiplied lr by 10\"\n",
    "            else:\n",
    "                dna.lr /= 10\n",
    "                return \"divided lr by 10\"\n",
    "    def add_neuron_to_2d_block(self, dna: NN_dna, p_raw: float = -1):\n",
    "        if p_raw * self.impact_add_neuron_to_2d_block < self.R:\n",
    "            if len(dna.blocks_2d_gene) == 0: return None\n",
    "            layer_nr = random.randrange(0, len(dna.blocks_2d_gene))\n",
    "            dna.blocks_2d_gene[layer_nr].out_channels += 1\n",
    "            return f\"added neuron to 2d block no. {layer_nr}\"\n",
    "    def delete_neuron_from_2d_block(self, dna: NN_dna, p_raw: float = -1):\n",
    "        if p_raw * self.impact_delete_neuron_from_2d_block < self.R:\n",
    "            if len(dna.blocks_2d_gene) == 0: return None\n",
    "            layer_nr = random.randrange(0, len(dna.blocks_2d_gene))\n",
    "            if dna.blocks_2d_gene[layer_nr].out_channels > 1: dna.blocks_2d_gene[layer_nr].out_channels -= 1\n",
    "            return f\"deleted neuron from 2d block no. {layer_nr}\"\n",
    "    def add_2d_block(self, dna: NN_dna, p_raw: float = -1):\n",
    "        if p_raw * self.impact_add_2d_block < self.R:\n",
    "            layer_nr = random.randrange(0, len(dna.blocks_2d_gene) + 1)\n",
    "            input_image_size = IMAGE_WIDTH if layer_nr == 0 else dna.blocks_2d_gene[layer_nr-1].output_image_size\n",
    "            dna.blocks_2d_gene.insert(layer_nr, create_random_2d_block(input_image_size, MAX_KERNEL_SIZE))\n",
    "            # check whether this insertion \"killed\" the entity (and if yes: repair it)\n",
    "            protocol = update_and_check_2d_block_stack(dna.blocks_2d_gene)\n",
    "            return f\"added 2d block at {layer_nr} + {protocol}\"\n",
    "    def delete_2d_block(self, dna: NN_dna, p_raw: float = -1):\n",
    "        if p_raw * self.impact_delete_2d_block < self.R:\n",
    "            if len(dna.blocks_2d_gene) == 0: return None\n",
    "            layer_nr = random.randrange(0, len(dna.blocks_2d_gene))\n",
    "            dna.blocks_2d_gene.pop(layer_nr)\n",
    "            # check whether this deletion \"killed\" the entity (and if yes: repair it)\n",
    "            protocol = update_and_check_2d_block_stack(dna.blocks_2d_gene)\n",
    "            return f\"deleted 2d block at {layer_nr} + {protocol}\"\n",
    "    def increase_kernel(self, dna: NN_dna, p_raw: float = -1):\n",
    "        if p_raw * self.impact_increase_kernel < self.R:\n",
    "            if len(dna.blocks_2d_gene) == 0: return None\n",
    "            layer_nr = random.randrange(0, len(dna.blocks_2d_gene))\n",
    "            if random.random() > .5:\n",
    "                # check whether the kernel may be increased\n",
    "                if dna.blocks_2d_gene[layer_nr].conv_kernel_size < dna.blocks_2d_gene[layer_nr].input_image_size:\n",
    "                    dna.blocks_2d_gene[layer_nr].conv_kernel_size += 1\n",
    "                    return f\"conv kernel += 1 of 2d block no. {layer_nr}\"\n",
    "            else:\n",
    "                if dna.blocks_2d_gene[layer_nr].pool_kernel_size < dna.blocks_2d_gene[layer_nr].after_conv_image_size:\n",
    "                    dna.blocks_2d_gene[layer_nr].pool_kernel_size += 1\n",
    "                    return f\"pool kernel +=1 of 2d block no. {layer_nr}\"\n",
    "    def decrease_kernel(self, dna: NN_dna, p_raw: float = -1):\n",
    "        if p_raw * self.impact_decrease_kernel < self.R:\n",
    "            if len(dna.blocks_2d_gene) == 0: return None\n",
    "            layer_nr = random.randrange(0, len(dna.blocks_2d_gene))\n",
    "            if random.random() > .5:\n",
    "                if dna.blocks_2d_gene[layer_nr].conv_kernel_size > 1 and dna.blocks_2d_gene[layer_nr].conv_padding*2 < dna.blocks_2d_gene[layer_nr].conv_kernel_size:\n",
    "                    dna.blocks_2d_gene[layer_nr].conv_kernel_size -= 1\n",
    "                    return f\"conv kernel -= 1 of 2d block no. {layer_nr}\"\n",
    "            else:\n",
    "                if dna.blocks_2d_gene[layer_nr].pool_kernel_size > 1 and dna.blocks_2d_gene[layer_nr].pool_padding*2 < dna.blocks_2d_gene[layer_nr].pool_kernel_size:\n",
    "                    dna.blocks_2d_gene[layer_nr].pool_kernel_size -= 1\n",
    "                    return f\"pool kernel -= 1 of 2d block no. {layer_nr}\"\n",
    "    def change_optimizer(self, dna: NN_dna, p_raw: float = -1):\n",
    "        if p_raw * self.impact_change_optimizer < self.R:\n",
    "            optimizer_index = random.randrange(0, len(NN_dna.optimizer_dict))\n",
    "            dna.optimizer_gene = optimizer_index\n",
    "            return f\"changed optimizer to {NN_dna.optimizer_dict[optimizer_index]}\"\n",
    "    def change_loss_fn(self, dna: NN_dna, p_raw: float = -1):\n",
    "        if p_raw * self.impact_change_loss_fn < self.R:\n",
    "            loss_fn_index = random.randrange(0, len(NN_dna.loss_fn_dict))\n",
    "            dna.loss_fn_gene = loss_fn_index\n",
    "            return f\"changed loss function to {NN_dna.loss_fn_dict[loss_fn_index]}\"\n",
    "\n",
    "def mutate_dna(dna_parent: NN_dna, print_actions: bool = True, mutant_name = \"NN\") -> NN_dna:\n",
    "    # clone the dna (to not change the parent's dna)\n",
    "    dna_mutant = copy.deepcopy(dna_parent)\n",
    "\n",
    "    # create a mutation instance (this produces a radicality R)\n",
    "    m = Mutation()\n",
    "    if print_actions: print(f\"Radicality in creation of '{mutant_name}': {m.R:.2g}\")\n",
    "\n",
    "    # Dynamically loop over all functions of the Mutation class\n",
    "    for method_name in dir(m): # Loop through all attributes of the class\n",
    "        if callable(getattr(m, method_name)) and not method_name.startswith(\"__\"): # Filter to only functions (ignoring private methods and attributes)\n",
    "            p_raw = random.random() # raw likelihood\n",
    "            operation = getattr(m, method_name)\n",
    "            effect = operation(dna_mutant, p_raw) # execute the operation\n",
    "            if effect != None and print_actions: print(f\"- {effect}\")\n",
    "    return dna_mutant # return new dna"
   ]
  },
  {
   "cell_type": "markdown",
   "metadata": {},
   "source": [
    "### GP Run\n",
    "1. Create a random population of given POP_SIZE\n",
    "2. `train_and_evaluate_gen` for one epoch\n",
    "3. choose the half of `NN_individual`s that has the best `running_acc`\n",
    "4. mutate each chosen NN **twice**\n",
    "5. continue at *2.* unless you are already at gen FINAL_GEN"
   ]
  },
  {
   "cell_type": "code",
   "execution_count": 618,
   "metadata": {},
   "outputs": [
    {
     "name": "stdout",
     "output_type": "stream",
     "text": [
      "***** Gen. 1 / 4 *****\n",
      "*** Commencing epoch 1 / 1 for 6 individuals, one line each. ***\n"
     ]
    },
    {
     "name": "stderr",
     "output_type": "stream",
     "text": [
      "1. NN0(1 blocks:4, SGD & CrossEn @ 0.1): 59it [00:00, 136.05it/s]\n",
      "2. NN1(5 blocks:11,13,5,5,3, SGD & CrossEn @ 0.1): 59it [00:00, 105.32it/s]\n",
      "3. NN2(7 blocks:9,15,5,11,4,5,4, SGD & CrossEn @ 0.1): 59it [00:00, 101.00it/s]\n",
      "4. NN3(5 blocks:13,11,11,11,14, SGD & CrossEn @ 0.1): 59it [00:00, 114.08it/s]\n",
      "5. NN4(3 blocks:4,11,13, SGD & CrossEn @ 0.1): 59it [00:00, 114.75it/s]\n",
      "6. NN5(5 blocks:12,10,4,11,7, SGD & CrossEn @ 0.1): 59it [00:00, 114.02it/s]\n"
     ]
    },
    {
     "data": {
      "image/png": "[encoded data removed]",
      "text/plain": [
       "<Figure size 1500x600 with 1 Axes>"
      ]
     },
     "metadata": {},
     "output_type": "display_data"
    },
    {
     "name": "stdout",
     "output_type": "stream",
     "text": [
      "Radicality in creation of 'NN0.a': 0.22\n",
      "- added neuron to 2d block no. 0\n",
      "Radicality in creation of 'NN0.b': 0.83\n",
      "- added 2d block at 0 + block[1]'s input_image_size was set to block[0]'s output_image_size (6), block[1]'s conv_kernel_size was decreased to input_image_size (6), \n",
      "- deleted 2d block at 1 + \n",
      "- deleted neuron from 2d block no. 0\n",
      "- conv kernel += 1 of 2d block no. 0\n",
      "- multiplied lr by 1.1\n",
      "Radicality in creation of 'NN1.a': 0.19\n",
      "- divided lr by 1.1\n",
      "Radicality in creation of 'NN1.b': 0.56\n",
      "- conv kernel += 1 of 2d block no. 2\n",
      "- multiplied lr by 1.1\n",
      "Radicality in creation of 'NN2.a': 0.69\n",
      "- added neuron to 2d block no. 1\n",
      "- pool kernel +=1 of 2d block no. 4\n",
      "- multiplied lr by 1.1\n",
      "Radicality in creation of 'NN2.b': 0.024\n",
      "***** Gen. 2 / 4 *****\n",
      "*** Commencing epoch 1 / 1 for 6 individuals, one line each. ***\n"
     ]
    },
    {
     "name": "stderr",
     "output_type": "stream",
     "text": [
      "1. NN0.a(1 blocks:5, SGD & CrossEn @ 0.1): 59it [00:00, 144.08it/s]\n",
      "2. NN0.b(1 blocks:14, SGD & CrossEn @ 0.11): 59it [00:00, 142.82it/s]\n",
      "3. NN1.a(5 blocks:11,13,5,5,3, SGD & CrossEn @ 0.091): 59it [00:00, 119.18it/s]\n",
      "4. NN1.b(5 blocks:11,13,5,5,3, SGD & CrossEn @ 0.11): 0it [00:00, ?it/s]\n"
     ]
    },
    {
     "ename": "RuntimeError",
     "evalue": "Calculated padded input size per channel: (1 x 1). Kernel size: (2 x 2). Kernel size can't be greater than actual input size",
     "output_type": "error",
     "traceback": [
      "\u001b[0;31m---------------------------------------------------------------------------\u001b[0m",
      "\u001b[0;31mRuntimeError\u001b[0m                              Traceback (most recent call last)",
      "Cell \u001b[0;32mIn[618], line 16\u001b[0m\n\u001b[1;32m     14\u001b[0m \u001b[38;5;28;01mfor\u001b[39;00m gen \u001b[38;5;129;01min\u001b[39;00m \u001b[38;5;28mrange\u001b[39m(FINAL_GEN):\n\u001b[1;32m     15\u001b[0m     \u001b[38;5;28mprint\u001b[39m(\u001b[38;5;124mf\u001b[39m\u001b[38;5;124m\"\u001b[39m\u001b[38;5;124m***** Gen. \u001b[39m\u001b[38;5;132;01m{\u001b[39;00mgen\u001b[38;5;241m+\u001b[39m\u001b[38;5;241m1\u001b[39m\u001b[38;5;132;01m}\u001b[39;00m\u001b[38;5;124m / \u001b[39m\u001b[38;5;132;01m{\u001b[39;00mFINAL_GEN\u001b[38;5;132;01m}\u001b[39;00m\u001b[38;5;124m *****\u001b[39m\u001b[38;5;124m\"\u001b[39m)\n\u001b[0;32m---> 16\u001b[0m     \u001b[43mtrain_and_evaluate_gen\u001b[49m\u001b[43m(\u001b[49m\u001b[43mpop\u001b[49m\u001b[43m,\u001b[49m\u001b[43m \u001b[49m\u001b[43mtrain_dl_f_mnist\u001b[49m\u001b[43m,\u001b[49m\u001b[43m \u001b[49m\u001b[43mtest_dl_f_mnist\u001b[49m\u001b[43m,\u001b[49m\u001b[43m \u001b[49m\u001b[43mtesting_interval\u001b[49m\u001b[43m,\u001b[49m\u001b[43m \u001b[49m\u001b[43mtesting_data_fraction\u001b[49m\u001b[43m,\u001b[49m\u001b[43m \u001b[49m\u001b[43mtraining_data_fraction\u001b[49m\u001b[38;5;241;43m=\u001b[39;49m\u001b[43mtrain_data_fraction\u001b[49m\u001b[43m,\u001b[49m\u001b[43m \u001b[49m\u001b[43mepochs\u001b[49m\u001b[38;5;241;43m=\u001b[39;49m\u001b[43mepochs\u001b[49m\u001b[43m,\u001b[49m\u001b[43m \u001b[49m\u001b[43mlive_plot\u001b[49m\u001b[38;5;241;43m=\u001b[39;49m\u001b[38;5;28;43;01mFalse\u001b[39;49;00m\u001b[43m,\u001b[49m\u001b[43m \u001b[49m\u001b[43monly_last_plot\u001b[49m\u001b[38;5;241;43m=\u001b[39;49m\u001b[38;5;28;43;01mTrue\u001b[39;49;00m\u001b[43m)\u001b[49m\n\u001b[1;32m     17\u001b[0m     \u001b[38;5;66;03m# only let the top half (w.r.t. running_acc) survive\u001b[39;00m\n\u001b[1;32m     18\u001b[0m     survivors \u001b[38;5;241m=\u001b[39m \u001b[38;5;28msorted\u001b[39m(pop, key\u001b[38;5;241m=\u001b[39m\u001b[38;5;28;01mlambda\u001b[39;00m ind: ind\u001b[38;5;241m.\u001b[39mrunning_acc, reverse\u001b[38;5;241m=\u001b[39m\u001b[38;5;28;01mTrue\u001b[39;00m)[:\u001b[38;5;28mlen\u001b[39m(pop) \u001b[38;5;241m/\u001b[39m\u001b[38;5;241m/\u001b[39m \u001b[38;5;241m2\u001b[39m]\n",
      "Cell \u001b[0;32mIn[613], line 38\u001b[0m, in \u001b[0;36mtrain_and_evaluate_gen\u001b[0;34m(pop, train_dl, test_dl, testing_interval, testing_data_fraction, training_data_fraction, epochs, live_plot, only_last_plot, no_plot)\u001b[0m\n\u001b[1;32m     35\u001b[0m \u001b[38;5;28;01mfor\u001b[39;00m i \u001b[38;5;129;01min\u001b[39;00m \u001b[38;5;28mrange\u001b[39m(\u001b[38;5;28mlen\u001b[39m(pop)):\n\u001b[1;32m     36\u001b[0m   \u001b[38;5;28;01mfor\u001b[39;00m batch, (X, y) \u001b[38;5;129;01min\u001b[39;00m tqdm(\u001b[38;5;28menumerate\u001b[39m(train_subset_dl),desc\u001b[38;5;241m=\u001b[39m\u001b[38;5;124mf\u001b[39m\u001b[38;5;124m\"\u001b[39m\u001b[38;5;132;01m{\u001b[39;00mi\u001b[38;5;241m+\u001b[39m\u001b[38;5;241m1\u001b[39m\u001b[38;5;132;01m}\u001b[39;00m\u001b[38;5;124m. \u001b[39m\u001b[38;5;132;01m{\u001b[39;00mpop[i]\u001b[38;5;241m.\u001b[39mname\u001b[38;5;132;01m}\u001b[39;00m\u001b[38;5;124m(\u001b[39m\u001b[38;5;132;01m{\u001b[39;00mpop[i]\u001b[38;5;241m.\u001b[39mdna\u001b[38;5;241m.\u001b[39mtoString()\u001b[38;5;132;01m}\u001b[39;00m\u001b[38;5;124m)\u001b[39m\u001b[38;5;124m\"\u001b[39m):\n\u001b[1;32m     37\u001b[0m     \u001b[38;5;66;03m# train the model (update the weights and biases of the NN pop[i])\u001b[39;00m\n\u001b[0;32m---> 38\u001b[0m     pop[i]\u001b[38;5;241m.\u001b[39mtrain_losses[\u001b[38;5;124mf\u001b[39m\u001b[38;5;124m\"\u001b[39m\u001b[38;5;124me_\u001b[39m\u001b[38;5;132;01m{\u001b[39;00mepoch\u001b[38;5;132;01m}\u001b[39;00m\u001b[38;5;124m@b_\u001b[39m\u001b[38;5;132;01m{\u001b[39;00mbatch\u001b[38;5;132;01m}\u001b[39;00m\u001b[38;5;124m\"\u001b[39m], elapsed_batch_training_time \u001b[38;5;241m=\u001b[39m \u001b[43mtrain_model_one_batch\u001b[49m\u001b[43m(\u001b[49m\u001b[43mpop\u001b[49m\u001b[43m[\u001b[49m\u001b[43mi\u001b[49m\u001b[43m]\u001b[49m\u001b[43m,\u001b[49m\u001b[43m \u001b[49m\u001b[43mX\u001b[49m\u001b[38;5;241;43m=\u001b[39;49m\u001b[43mX\u001b[49m\u001b[43m,\u001b[49m\u001b[43m \u001b[49m\u001b[43my\u001b[49m\u001b[38;5;241;43m=\u001b[39;49m\u001b[43my\u001b[49m\u001b[43m)\u001b[49m\n\u001b[1;32m     39\u001b[0m     pop[i]\u001b[38;5;241m.\u001b[39melapsed_training_time \u001b[38;5;241m+\u001b[39m\u001b[38;5;241m=\u001b[39m elapsed_batch_training_time\n\u001b[1;32m     40\u001b[0m     \u001b[38;5;28;01mif\u001b[39;00m batch \u001b[38;5;241m%\u001b[39m testing_interval \u001b[38;5;241m==\u001b[39m \u001b[38;5;241m0\u001b[39m: \n\u001b[1;32m     41\u001b[0m       \u001b[38;5;66;03m# test the model and store the results\u001b[39;00m\n",
      "Cell \u001b[0;32mIn[612], line 8\u001b[0m, in \u001b[0;36mtrain_model_one_batch\u001b[0;34m(ind, X, y)\u001b[0m\n\u001b[1;32m      6\u001b[0m ind\u001b[38;5;241m.\u001b[39mtrain()\n\u001b[1;32m      7\u001b[0m X, y \u001b[38;5;241m=\u001b[39m X\u001b[38;5;241m.\u001b[39mto(ind\u001b[38;5;241m.\u001b[39mdevice), y\u001b[38;5;241m.\u001b[39mto(ind\u001b[38;5;241m.\u001b[39mdevice)\n\u001b[0;32m----> 8\u001b[0m y_pred \u001b[38;5;241m=\u001b[39m \u001b[43mind\u001b[49m\u001b[43m(\u001b[49m\u001b[43mX\u001b[49m\u001b[43m)\u001b[49m\n\u001b[1;32m      9\u001b[0m loss \u001b[38;5;241m=\u001b[39m ind\u001b[38;5;241m.\u001b[39mloss_fn(y_pred, y)\n\u001b[1;32m     10\u001b[0m train_loss \u001b[38;5;241m+\u001b[39m\u001b[38;5;241m=\u001b[39m loss\n",
      "File \u001b[0;32m~/.local/lib/python3.12/site-packages/torch/nn/modules/module.py:1553\u001b[0m, in \u001b[0;36mModule._wrapped_call_impl\u001b[0;34m(self, *args, **kwargs)\u001b[0m\n\u001b[1;32m   1551\u001b[0m     \u001b[38;5;28;01mreturn\u001b[39;00m \u001b[38;5;28mself\u001b[39m\u001b[38;5;241m.\u001b[39m_compiled_call_impl(\u001b[38;5;241m*\u001b[39margs, \u001b[38;5;241m*\u001b[39m\u001b[38;5;241m*\u001b[39mkwargs)  \u001b[38;5;66;03m# type: ignore[misc]\u001b[39;00m\n\u001b[1;32m   1552\u001b[0m \u001b[38;5;28;01melse\u001b[39;00m:\n\u001b[0;32m-> 1553\u001b[0m     \u001b[38;5;28;01mreturn\u001b[39;00m \u001b[38;5;28;43mself\u001b[39;49m\u001b[38;5;241;43m.\u001b[39;49m\u001b[43m_call_impl\u001b[49m\u001b[43m(\u001b[49m\u001b[38;5;241;43m*\u001b[39;49m\u001b[43margs\u001b[49m\u001b[43m,\u001b[49m\u001b[43m \u001b[49m\u001b[38;5;241;43m*\u001b[39;49m\u001b[38;5;241;43m*\u001b[39;49m\u001b[43mkwargs\u001b[49m\u001b[43m)\u001b[49m\n",
      "File \u001b[0;32m~/.local/lib/python3.12/site-packages/torch/nn/modules/module.py:1562\u001b[0m, in \u001b[0;36mModule._call_impl\u001b[0;34m(self, *args, **kwargs)\u001b[0m\n\u001b[1;32m   1557\u001b[0m \u001b[38;5;66;03m# If we don't have any hooks, we want to skip the rest of the logic in\u001b[39;00m\n\u001b[1;32m   1558\u001b[0m \u001b[38;5;66;03m# this function, and just call forward.\u001b[39;00m\n\u001b[1;32m   1559\u001b[0m \u001b[38;5;28;01mif\u001b[39;00m \u001b[38;5;129;01mnot\u001b[39;00m (\u001b[38;5;28mself\u001b[39m\u001b[38;5;241m.\u001b[39m_backward_hooks \u001b[38;5;129;01mor\u001b[39;00m \u001b[38;5;28mself\u001b[39m\u001b[38;5;241m.\u001b[39m_backward_pre_hooks \u001b[38;5;129;01mor\u001b[39;00m \u001b[38;5;28mself\u001b[39m\u001b[38;5;241m.\u001b[39m_forward_hooks \u001b[38;5;129;01mor\u001b[39;00m \u001b[38;5;28mself\u001b[39m\u001b[38;5;241m.\u001b[39m_forward_pre_hooks\n\u001b[1;32m   1560\u001b[0m         \u001b[38;5;129;01mor\u001b[39;00m _global_backward_pre_hooks \u001b[38;5;129;01mor\u001b[39;00m _global_backward_hooks\n\u001b[1;32m   1561\u001b[0m         \u001b[38;5;129;01mor\u001b[39;00m _global_forward_hooks \u001b[38;5;129;01mor\u001b[39;00m _global_forward_pre_hooks):\n\u001b[0;32m-> 1562\u001b[0m     \u001b[38;5;28;01mreturn\u001b[39;00m \u001b[43mforward_call\u001b[49m\u001b[43m(\u001b[49m\u001b[38;5;241;43m*\u001b[39;49m\u001b[43margs\u001b[49m\u001b[43m,\u001b[49m\u001b[43m \u001b[49m\u001b[38;5;241;43m*\u001b[39;49m\u001b[38;5;241;43m*\u001b[39;49m\u001b[43mkwargs\u001b[49m\u001b[43m)\u001b[49m\n\u001b[1;32m   1564\u001b[0m \u001b[38;5;28;01mtry\u001b[39;00m:\n\u001b[1;32m   1565\u001b[0m     result \u001b[38;5;241m=\u001b[39m \u001b[38;5;28;01mNone\u001b[39;00m\n",
      "Cell \u001b[0;32mIn[608], line 31\u001b[0m, in \u001b[0;36mNN_individual.forward\u001b[0;34m(self, x)\u001b[0m\n\u001b[1;32m     29\u001b[0m \u001b[38;5;28;01mdef\u001b[39;00m \u001b[38;5;21mforward\u001b[39m(\u001b[38;5;28mself\u001b[39m, x):\n\u001b[1;32m     30\u001b[0m     \u001b[38;5;28;01mfor\u001b[39;00m i \u001b[38;5;129;01min\u001b[39;00m \u001b[38;5;28mrange\u001b[39m(\u001b[38;5;28mlen\u001b[39m(\u001b[38;5;28mself\u001b[39m\u001b[38;5;241m.\u001b[39mblocks_2d)):\n\u001b[0;32m---> 31\u001b[0m         x \u001b[38;5;241m=\u001b[39m \u001b[38;5;28;43mself\u001b[39;49m\u001b[38;5;241;43m.\u001b[39;49m\u001b[43mblocks_2d\u001b[49m\u001b[43m[\u001b[49m\u001b[43mi\u001b[49m\u001b[43m]\u001b[49m\u001b[43m(\u001b[49m\u001b[43mx\u001b[49m\u001b[43m)\u001b[49m\n\u001b[1;32m     32\u001b[0m     x \u001b[38;5;241m=\u001b[39m \u001b[38;5;28mself\u001b[39m\u001b[38;5;241m.\u001b[39mflatten(x)\n\u001b[1;32m     33\u001b[0m     x \u001b[38;5;241m=\u001b[39m \u001b[38;5;28mself\u001b[39m\u001b[38;5;241m.\u001b[39mlazyLin(x)\n",
      "File \u001b[0;32m~/.local/lib/python3.12/site-packages/torch/nn/modules/module.py:1553\u001b[0m, in \u001b[0;36mModule._wrapped_call_impl\u001b[0;34m(self, *args, **kwargs)\u001b[0m\n\u001b[1;32m   1551\u001b[0m     \u001b[38;5;28;01mreturn\u001b[39;00m \u001b[38;5;28mself\u001b[39m\u001b[38;5;241m.\u001b[39m_compiled_call_impl(\u001b[38;5;241m*\u001b[39margs, \u001b[38;5;241m*\u001b[39m\u001b[38;5;241m*\u001b[39mkwargs)  \u001b[38;5;66;03m# type: ignore[misc]\u001b[39;00m\n\u001b[1;32m   1552\u001b[0m \u001b[38;5;28;01melse\u001b[39;00m:\n\u001b[0;32m-> 1553\u001b[0m     \u001b[38;5;28;01mreturn\u001b[39;00m \u001b[38;5;28;43mself\u001b[39;49m\u001b[38;5;241;43m.\u001b[39;49m\u001b[43m_call_impl\u001b[49m\u001b[43m(\u001b[49m\u001b[38;5;241;43m*\u001b[39;49m\u001b[43margs\u001b[49m\u001b[43m,\u001b[49m\u001b[43m \u001b[49m\u001b[38;5;241;43m*\u001b[39;49m\u001b[38;5;241;43m*\u001b[39;49m\u001b[43mkwargs\u001b[49m\u001b[43m)\u001b[49m\n",
      "File \u001b[0;32m~/.local/lib/python3.12/site-packages/torch/nn/modules/module.py:1562\u001b[0m, in \u001b[0;36mModule._call_impl\u001b[0;34m(self, *args, **kwargs)\u001b[0m\n\u001b[1;32m   1557\u001b[0m \u001b[38;5;66;03m# If we don't have any hooks, we want to skip the rest of the logic in\u001b[39;00m\n\u001b[1;32m   1558\u001b[0m \u001b[38;5;66;03m# this function, and just call forward.\u001b[39;00m\n\u001b[1;32m   1559\u001b[0m \u001b[38;5;28;01mif\u001b[39;00m \u001b[38;5;129;01mnot\u001b[39;00m (\u001b[38;5;28mself\u001b[39m\u001b[38;5;241m.\u001b[39m_backward_hooks \u001b[38;5;129;01mor\u001b[39;00m \u001b[38;5;28mself\u001b[39m\u001b[38;5;241m.\u001b[39m_backward_pre_hooks \u001b[38;5;129;01mor\u001b[39;00m \u001b[38;5;28mself\u001b[39m\u001b[38;5;241m.\u001b[39m_forward_hooks \u001b[38;5;129;01mor\u001b[39;00m \u001b[38;5;28mself\u001b[39m\u001b[38;5;241m.\u001b[39m_forward_pre_hooks\n\u001b[1;32m   1560\u001b[0m         \u001b[38;5;129;01mor\u001b[39;00m _global_backward_pre_hooks \u001b[38;5;129;01mor\u001b[39;00m _global_backward_hooks\n\u001b[1;32m   1561\u001b[0m         \u001b[38;5;129;01mor\u001b[39;00m _global_forward_hooks \u001b[38;5;129;01mor\u001b[39;00m _global_forward_pre_hooks):\n\u001b[0;32m-> 1562\u001b[0m     \u001b[38;5;28;01mreturn\u001b[39;00m \u001b[43mforward_call\u001b[49m\u001b[43m(\u001b[49m\u001b[38;5;241;43m*\u001b[39;49m\u001b[43margs\u001b[49m\u001b[43m,\u001b[49m\u001b[43m \u001b[49m\u001b[38;5;241;43m*\u001b[39;49m\u001b[38;5;241;43m*\u001b[39;49m\u001b[43mkwargs\u001b[49m\u001b[43m)\u001b[49m\n\u001b[1;32m   1564\u001b[0m \u001b[38;5;28;01mtry\u001b[39;00m:\n\u001b[1;32m   1565\u001b[0m     result \u001b[38;5;241m=\u001b[39m \u001b[38;5;28;01mNone\u001b[39;00m\n",
      "File \u001b[0;32m~/.local/lib/python3.12/site-packages/torch/nn/modules/container.py:219\u001b[0m, in \u001b[0;36mSequential.forward\u001b[0;34m(self, input)\u001b[0m\n\u001b[1;32m    217\u001b[0m \u001b[38;5;28;01mdef\u001b[39;00m \u001b[38;5;21mforward\u001b[39m(\u001b[38;5;28mself\u001b[39m, \u001b[38;5;28minput\u001b[39m):\n\u001b[1;32m    218\u001b[0m     \u001b[38;5;28;01mfor\u001b[39;00m module \u001b[38;5;129;01min\u001b[39;00m \u001b[38;5;28mself\u001b[39m:\n\u001b[0;32m--> 219\u001b[0m         \u001b[38;5;28minput\u001b[39m \u001b[38;5;241m=\u001b[39m \u001b[43mmodule\u001b[49m\u001b[43m(\u001b[49m\u001b[38;5;28;43minput\u001b[39;49m\u001b[43m)\u001b[49m\n\u001b[1;32m    220\u001b[0m     \u001b[38;5;28;01mreturn\u001b[39;00m \u001b[38;5;28minput\u001b[39m\n",
      "File \u001b[0;32m~/.local/lib/python3.12/site-packages/torch/nn/modules/module.py:1553\u001b[0m, in \u001b[0;36mModule._wrapped_call_impl\u001b[0;34m(self, *args, **kwargs)\u001b[0m\n\u001b[1;32m   1551\u001b[0m     \u001b[38;5;28;01mreturn\u001b[39;00m \u001b[38;5;28mself\u001b[39m\u001b[38;5;241m.\u001b[39m_compiled_call_impl(\u001b[38;5;241m*\u001b[39margs, \u001b[38;5;241m*\u001b[39m\u001b[38;5;241m*\u001b[39mkwargs)  \u001b[38;5;66;03m# type: ignore[misc]\u001b[39;00m\n\u001b[1;32m   1552\u001b[0m \u001b[38;5;28;01melse\u001b[39;00m:\n\u001b[0;32m-> 1553\u001b[0m     \u001b[38;5;28;01mreturn\u001b[39;00m \u001b[38;5;28;43mself\u001b[39;49m\u001b[38;5;241;43m.\u001b[39;49m\u001b[43m_call_impl\u001b[49m\u001b[43m(\u001b[49m\u001b[38;5;241;43m*\u001b[39;49m\u001b[43margs\u001b[49m\u001b[43m,\u001b[49m\u001b[43m \u001b[49m\u001b[38;5;241;43m*\u001b[39;49m\u001b[38;5;241;43m*\u001b[39;49m\u001b[43mkwargs\u001b[49m\u001b[43m)\u001b[49m\n",
      "File \u001b[0;32m~/.local/lib/python3.12/site-packages/torch/nn/modules/module.py:1562\u001b[0m, in \u001b[0;36mModule._call_impl\u001b[0;34m(self, *args, **kwargs)\u001b[0m\n\u001b[1;32m   1557\u001b[0m \u001b[38;5;66;03m# If we don't have any hooks, we want to skip the rest of the logic in\u001b[39;00m\n\u001b[1;32m   1558\u001b[0m \u001b[38;5;66;03m# this function, and just call forward.\u001b[39;00m\n\u001b[1;32m   1559\u001b[0m \u001b[38;5;28;01mif\u001b[39;00m \u001b[38;5;129;01mnot\u001b[39;00m (\u001b[38;5;28mself\u001b[39m\u001b[38;5;241m.\u001b[39m_backward_hooks \u001b[38;5;129;01mor\u001b[39;00m \u001b[38;5;28mself\u001b[39m\u001b[38;5;241m.\u001b[39m_backward_pre_hooks \u001b[38;5;129;01mor\u001b[39;00m \u001b[38;5;28mself\u001b[39m\u001b[38;5;241m.\u001b[39m_forward_hooks \u001b[38;5;129;01mor\u001b[39;00m \u001b[38;5;28mself\u001b[39m\u001b[38;5;241m.\u001b[39m_forward_pre_hooks\n\u001b[1;32m   1560\u001b[0m         \u001b[38;5;129;01mor\u001b[39;00m _global_backward_pre_hooks \u001b[38;5;129;01mor\u001b[39;00m _global_backward_hooks\n\u001b[1;32m   1561\u001b[0m         \u001b[38;5;129;01mor\u001b[39;00m _global_forward_hooks \u001b[38;5;129;01mor\u001b[39;00m _global_forward_pre_hooks):\n\u001b[0;32m-> 1562\u001b[0m     \u001b[38;5;28;01mreturn\u001b[39;00m \u001b[43mforward_call\u001b[49m\u001b[43m(\u001b[49m\u001b[38;5;241;43m*\u001b[39;49m\u001b[43margs\u001b[49m\u001b[43m,\u001b[49m\u001b[43m \u001b[49m\u001b[38;5;241;43m*\u001b[39;49m\u001b[38;5;241;43m*\u001b[39;49m\u001b[43mkwargs\u001b[49m\u001b[43m)\u001b[49m\n\u001b[1;32m   1564\u001b[0m \u001b[38;5;28;01mtry\u001b[39;00m:\n\u001b[1;32m   1565\u001b[0m     result \u001b[38;5;241m=\u001b[39m \u001b[38;5;28;01mNone\u001b[39;00m\n",
      "File \u001b[0;32m~/.local/lib/python3.12/site-packages/torch/nn/modules/conv.py:458\u001b[0m, in \u001b[0;36mConv2d.forward\u001b[0;34m(self, input)\u001b[0m\n\u001b[1;32m    457\u001b[0m \u001b[38;5;28;01mdef\u001b[39;00m \u001b[38;5;21mforward\u001b[39m(\u001b[38;5;28mself\u001b[39m, \u001b[38;5;28minput\u001b[39m: Tensor) \u001b[38;5;241m-\u001b[39m\u001b[38;5;241m>\u001b[39m Tensor:\n\u001b[0;32m--> 458\u001b[0m     \u001b[38;5;28;01mreturn\u001b[39;00m \u001b[38;5;28;43mself\u001b[39;49m\u001b[38;5;241;43m.\u001b[39;49m\u001b[43m_conv_forward\u001b[49m\u001b[43m(\u001b[49m\u001b[38;5;28;43minput\u001b[39;49m\u001b[43m,\u001b[49m\u001b[43m \u001b[49m\u001b[38;5;28;43mself\u001b[39;49m\u001b[38;5;241;43m.\u001b[39;49m\u001b[43mweight\u001b[49m\u001b[43m,\u001b[49m\u001b[43m \u001b[49m\u001b[38;5;28;43mself\u001b[39;49m\u001b[38;5;241;43m.\u001b[39;49m\u001b[43mbias\u001b[49m\u001b[43m)\u001b[49m\n",
      "File \u001b[0;32m~/.local/lib/python3.12/site-packages/torch/nn/modules/conv.py:454\u001b[0m, in \u001b[0;36mConv2d._conv_forward\u001b[0;34m(self, input, weight, bias)\u001b[0m\n\u001b[1;32m    450\u001b[0m \u001b[38;5;28;01mif\u001b[39;00m \u001b[38;5;28mself\u001b[39m\u001b[38;5;241m.\u001b[39mpadding_mode \u001b[38;5;241m!=\u001b[39m \u001b[38;5;124m'\u001b[39m\u001b[38;5;124mzeros\u001b[39m\u001b[38;5;124m'\u001b[39m:\n\u001b[1;32m    451\u001b[0m     \u001b[38;5;28;01mreturn\u001b[39;00m F\u001b[38;5;241m.\u001b[39mconv2d(F\u001b[38;5;241m.\u001b[39mpad(\u001b[38;5;28minput\u001b[39m, \u001b[38;5;28mself\u001b[39m\u001b[38;5;241m.\u001b[39m_reversed_padding_repeated_twice, mode\u001b[38;5;241m=\u001b[39m\u001b[38;5;28mself\u001b[39m\u001b[38;5;241m.\u001b[39mpadding_mode),\n\u001b[1;32m    452\u001b[0m                     weight, bias, \u001b[38;5;28mself\u001b[39m\u001b[38;5;241m.\u001b[39mstride,\n\u001b[1;32m    453\u001b[0m                     _pair(\u001b[38;5;241m0\u001b[39m), \u001b[38;5;28mself\u001b[39m\u001b[38;5;241m.\u001b[39mdilation, \u001b[38;5;28mself\u001b[39m\u001b[38;5;241m.\u001b[39mgroups)\n\u001b[0;32m--> 454\u001b[0m \u001b[38;5;28;01mreturn\u001b[39;00m \u001b[43mF\u001b[49m\u001b[38;5;241;43m.\u001b[39;49m\u001b[43mconv2d\u001b[49m\u001b[43m(\u001b[49m\u001b[38;5;28;43minput\u001b[39;49m\u001b[43m,\u001b[49m\u001b[43m \u001b[49m\u001b[43mweight\u001b[49m\u001b[43m,\u001b[49m\u001b[43m \u001b[49m\u001b[43mbias\u001b[49m\u001b[43m,\u001b[49m\u001b[43m \u001b[49m\u001b[38;5;28;43mself\u001b[39;49m\u001b[38;5;241;43m.\u001b[39;49m\u001b[43mstride\u001b[49m\u001b[43m,\u001b[49m\n\u001b[1;32m    455\u001b[0m \u001b[43m                \u001b[49m\u001b[38;5;28;43mself\u001b[39;49m\u001b[38;5;241;43m.\u001b[39;49m\u001b[43mpadding\u001b[49m\u001b[43m,\u001b[49m\u001b[43m \u001b[49m\u001b[38;5;28;43mself\u001b[39;49m\u001b[38;5;241;43m.\u001b[39;49m\u001b[43mdilation\u001b[49m\u001b[43m,\u001b[49m\u001b[43m \u001b[49m\u001b[38;5;28;43mself\u001b[39;49m\u001b[38;5;241;43m.\u001b[39;49m\u001b[43mgroups\u001b[49m\u001b[43m)\u001b[49m\n",
      "\u001b[0;31mRuntimeError\u001b[0m: Calculated padded input size per channel: (1 x 1). Kernel size: (2 x 2). Kernel size can't be greater than actual input size"
     ]
    }
   ],
   "source": [
    "POP_SIZE = 6\n",
    "FINAL_GEN = 4\n",
    "MAX_2D_BLOCK_COUNT = 7\n",
    "MAX_KERNEL_SIZE = 11\n",
    "\n",
    "testing_interval = 300\n",
    "epochs = 1\n",
    "testing_data_fraction = .5\n",
    "train_data_fraction = 1\n",
    "\n",
    "gens = []\n",
    "pop = create_random_population(POP_SIZE, max_2d_block_count=MAX_2D_BLOCK_COUNT, max_kernel_size=MAX_KERNEL_SIZE, name_prefix=\"NN\", device=device, print_summary=False)\n",
    "gens.append(pop)\n",
    "for gen in range(FINAL_GEN):\n",
    "    print(f\"***** Gen. {gen+1} / {FINAL_GEN} *****\")\n",
    "    train_and_evaluate_gen(pop, train_dl_f_mnist, test_dl_f_mnist, testing_interval, testing_data_fraction, training_data_fraction=train_data_fraction, epochs=epochs, live_plot=False, only_last_plot=True)\n",
    "    # only let the top half (w.r.t. running_acc) survive\n",
    "    survivors = sorted(pop, key=lambda ind: ind.running_acc, reverse=True)[:len(pop) // 2]\n",
    "    # mutate each survivor twice\n",
    "    pop = NN_population([NN_individual(mutate_dna(ind.dna, mutant_name=ind.name+\".\"+v), name=ind.name+\".\"+v, device=device) for ind in sorted(survivors, key=lambda ind: ind.name) for v in ['a','b']])\n",
    "    gens.append(pop)\n",
    "train_and_evaluate_gen(pop, train_dl_f_mnist, test_dl_f_mnist, testing_interval, testing_data_fraction, training_data_fraction=train_data_fraction, epochs=epochs, live_plot=False, only_last_plot=True)\n",
    "print(f\"******* SUMMARY *******\")\n",
    "NN_population(sorted([gens[i][j] for i in range(len(gens)) for j in range(len(gens[i]))], key=lambda ind: ind.running_acc)).plot_accs()\n",
    "\n"
   ]
  },
  {
   "cell_type": "code",
   "execution_count": 621,
   "metadata": {},
   "outputs": [
    {
     "name": "stdout",
     "output_type": "stream",
     "text": [
      "5 blocks:11,13,5,5,3, SGD & CrossEn @ 0.11\n",
      "5 blocks:11,13,5,5,3, SGD & CrossEn @ 0.1\n",
      "out_channels = 11 <-- (28 x 28)\n",
      "conv_2d (kernel, stride, padding) =\t(1, 1, 0) --> (28 x 28)\n",
      "max_pool_2d (kernel, stride, padding) =\t(4, 4, 2) --> (8 x 8)\n",
      "out_channels = 13 <-- (8 x 8)\n",
      "conv_2d (kernel, stride, padding) =\t(1, 1, 0) --> (8 x 8)\n",
      "max_pool_2d (kernel, stride, padding) =\t(3, 2, 1) --> (4 x 4)\n",
      "out_channels = 5 <-- (4 x 4)\n",
      "conv_2d (kernel, stride, padding) =\t(3, 2, 0) --> (2 x 2)\n",
      "max_pool_2d (kernel, stride, padding) =\t(1, 1, 0) --> (2 x 2)\n",
      "out_channels = 5 <-- (2 x 2)\n",
      "conv_2d (kernel, stride, padding) =\t(1, 1, 0) --> (2 x 2)\n",
      "max_pool_2d (kernel, stride, padding) =\t(1, 1, 0) --> (2 x 2)\n",
      "out_channels = 3 <-- (2 x 2)\n",
      "conv_2d (kernel, stride, padding) =\t(2, 1, 0) --> (1 x 1)\n",
      "max_pool_2d (kernel, stride, padding) =\t(1, 1, 0) --> (1 x 1)\n",
      "--------------------\n",
      "out_channels = 11 <-- (28 x 28)\n",
      "conv_2d (kernel, stride, padding) =\t(1, 1, 0) --> (28 x 28)\n",
      "max_pool_2d (kernel, stride, padding) =\t(4, 4, 2) --> (8 x 8)\n",
      "out_channels = 13 <-- (8 x 8)\n",
      "conv_2d (kernel, stride, padding) =\t(1, 1, 0) --> (8 x 8)\n",
      "max_pool_2d (kernel, stride, padding) =\t(3, 2, 1) --> (4 x 4)\n",
      "out_channels = 5 <-- (4 x 4)\n",
      "conv_2d (kernel, stride, padding) =\t(2, 2, 0) --> (2 x 2)\n",
      "max_pool_2d (kernel, stride, padding) =\t(1, 1, 0) --> (2 x 2)\n",
      "out_channels = 5 <-- (2 x 2)\n",
      "conv_2d (kernel, stride, padding) =\t(1, 1, 0) --> (2 x 2)\n",
      "max_pool_2d (kernel, stride, padding) =\t(1, 1, 0) --> (2 x 2)\n",
      "out_channels = 3 <-- (2 x 2)\n",
      "conv_2d (kernel, stride, padding) =\t(2, 1, 0) --> (1 x 1)\n",
      "max_pool_2d (kernel, stride, padding) =\t(1, 1, 0) --> (1 x 1)\n"
     ]
    }
   ],
   "source": [
    "# trying to spot the problem\n",
    "ind = [ind for ind in pop.individuals if ind.name==\"NN1.b\"][0]\n",
    "ind2 = [ind for ind in gens[0].individuals if ind.name==\"NN1\"][0]\n",
    "#ind3 = [ind for ind in pop.individuals if ind.name==\"NN3.a\"][0]\n",
    "print(ind.dna.toString())\n",
    "print(ind2.dna.toString())\n",
    "for block in ind.dna.blocks_2d_gene:\n",
    "    print(f\"{block.toString()}\")\n",
    "print(\"--------------------\")\n",
    "for block in ind2.dna.blocks_2d_gene:\n",
    "    print(f\"{block.toString()}\")\n",
    "#ind, ind2\n",
    "# problem: a adding/deleting 2d blocks messes up the input_image_size"
   ]
  },
  {
   "cell_type": "code",
   "execution_count": 436,
   "metadata": {},
   "outputs": [],
   "source": [
    "import copy\n",
    "dna_mutant = NN_dna()\n",
    "dna1 = dna_mutant\n",
    "dna2 = copy.copy(dna_mutant)\n",
    "dna3 = copy.deepcopy(dna_mutant)"
   ]
  },
  {
   "cell_type": "code",
   "execution_count": 549,
   "metadata": {},
   "outputs": [
    {
     "name": "stdout",
     "output_type": "stream",
     "text": [
      "dna0 15 blocks:10,6,6,8,6,10,11,5,10,15,13,4,7,8,5, SGD & CrossEn @ 10.0\t<__main__.NN_dna object at 0x7fc2c77706b0>\n",
      "dna1 15 blocks:10,6,6,8,6,10,11,5,10,15,13,4,7,8,5, SGD & CrossEn @ 10.0\t<__main__.NN_dna object at 0x7fc2c77706b0>\n",
      "dna2 15 blocks:10,6,6,8,6,10,11,5,10,15,13,4,7,8,5, SGD & CrossEn @ 0.1\t<__main__.NN_dna object at 0x7fc2c7174560>\n",
      "dna3 0 blocks: SGD & CrossEn @ 0.1\t<__main__.NN_dna object at 0x7fc2c71757c0>\n"
     ]
    }
   ],
   "source": [
    "mut.lr_factor_10(dna1)\n",
    "print(f\"dna0 {dna_mutant.toString()}\\t{dna_mutant}\")\n",
    "print(f\"dna1 {dna1.toString()}\\t{dna1}\")\n",
    "print(f\"dna2 {dna2.toString()}\\t{dna2}\")\n",
    "print(f\"dna3 {dna3.toString()}\\t{dna3}\")"
   ]
  }
 ],
 "metadata": {
  "kernelspec": {
   "display_name": "Python 3",
   "language": "python",
   "name": "python3"
  },
  "language_info": {
   "codemirror_mode": {
    "name": "ipython",
    "version": 3
   },
   "file_extension": ".py",
   "mimetype": "text/x-python",
   "name": "python",
   "nbconvert_exporter": "python",
   "pygments_lexer": "ipython3",
   "version": "3.12.6"
  }
 },
 "nbformat": 4,
 "nbformat_minor": 2
}
