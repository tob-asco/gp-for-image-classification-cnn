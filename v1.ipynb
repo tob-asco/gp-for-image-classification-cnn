{
 "cells": [
  {
   "cell_type": "code",
   "execution_count": 21,
   "metadata": {},
   "outputs": [
    {
     "name": "stdout",
     "output_type": "stream",
     "text": [
      "2.4.0+cu121 running on cuda\n"
     ]
    }
   ],
   "source": [
    "import torch\n",
    "from torch import nn\n",
    "import matplotlib.pyplot as plt\n",
    "\n",
    "device = 'cuda' if torch.cuda.is_available() else 'cpu'\n",
    "print(f\"{torch.__version__} running on {device}\")"
   ]
  },
  {
   "cell_type": "code",
   "execution_count": 22,
   "metadata": {},
   "outputs": [],
   "source": [
    "# import my helper files\n",
    "import individuals as inds\n",
    "import fashion_mnist_to_dl as fmnist"
   ]
  },
  {
   "cell_type": "markdown",
   "metadata": {},
   "source": [
    "# GP Run for Image Classification\n",
    "Your problem needs to fulfill the following criteria.\n",
    "1. It is an image classification problem.\n",
    "2. You supply marked training images and marked validation images.\n",
    "\n",
    "Within those, the run is flexible and adapts itself to your problem.\n",
    "Now, please describe your images and problem by setting those global variables:"
   ]
  },
  {
   "cell_type": "code",
   "execution_count": 23,
   "metadata": {},
   "outputs": [
    {
     "data": {
      "text/plain": [
       "(<torch.utils.data.dataloader.DataLoader at 0x7f4d55a25730>,\n",
       " <torch.utils.data.dataloader.DataLoader at 0x7f4d5517fb90>)"
      ]
     },
     "execution_count": 23,
     "metadata": {},
     "output_type": "execute_result"
    }
   ],
   "source": [
    "IMAGE_WIDTH = fmnist.IMAGE_WIDTH # <-- number of width-pixels\n",
    "IMAGE_HEIGHT = fmnist.IMAGE_HEIGHT # <-- number of height-pixels\n",
    "COLOUR_CHANNEL_COUNT = fmnist.COLOUR_CHANNEL_COUNT # <-- RGB images would have 3\n",
    "CLASSIFICATION_CATEGORIES_COUNT = fmnist.CLASSIFICATION_CATEGORIES_COUNT # <-- the amount of possible categories of which each image shall be marked with one\n",
    "\n",
    "MINI_BATCH_SIZE = fmnist.CLASSIFICATION_CATEGORIES_COUNT # was chosen in the dataloaders\n",
    "fmnist.train_dl, fmnist.test_dl"
   ]
  },
  {
   "cell_type": "code",
   "execution_count": 24,
   "metadata": {},
   "outputs": [],
   "source": [
    "testX = torch.randn(COLOUR_CHANNEL_COUNT,IMAGE_WIDTH,IMAGE_HEIGHT).to(device)"
   ]
  },
  {
   "cell_type": "markdown",
   "metadata": {},
   "source": [
    "## GP Code\n",
    "Now we need to decide the genetic stuff.\n",
    "1. Initial Population\n",
    "2. Fitness Measure\n",
    "3. Selection\n",
    "4. Genetic Operators\n",
    "    - Cloning or Crossover\n",
    "    - Mutation\n",
    "    \n",
    "### Hyperparameter-landscape is vast. Here's a list:\n",
    "- Net architecture\n",
    "    - kind of layers, number of layers\n",
    "        - for convolution/pooling: kernel size, stride, padding, (dilation) **[implemented]**\n",
    "    - number of neurons per layer\n",
    "    - activation function for each layer\n",
    "- cost function\n",
    "    - base term (e.g. square cost, log-likelihood, cross-entropy, ect.)\n",
    "    - toppings \n",
    "        - regularization of weights (L2, L1, dropout, etc.)\n",
    "- weights and biases optimization technique (= optimizer)\n",
    "    - SGD (= stochastic gradient descent)\n",
    "    - Hessian technique, i.e. momentum-based descent\n",
    "    - PyTorch's various other (e.g. *Adam* optimizer)\n",
    "- learning parameters\n",
    "    - η ... learning rate\n",
    "        - constant, or epoch-dependent, or accuracy-dependent, or a mix\n",
    "    - \\# of epochs\n",
    "        - constant, or early stopping\n",
    "    - (`mini_batch_size` - this one might be canonical)"
   ]
  },
  {
   "cell_type": "markdown",
   "metadata": {},
   "source": [
    "## The Individuals' Class\n",
    "- I think I want to define a class for one `nn.Sequential` 2d-block\n",
    "    - All possible instances should be concatenable with all possible instances\n",
    "    - The first gene is not allowed to choose `~.in_channels`, it must match `COLOUR_CHANNEL_COUNT`\n",
    "    - Every gene but the first is not allowed to choose `~.in_channels`, it must match `~.out_channels` of the prior gene\n",
    "- We construct an `NN_individual` from an `NN_dna` class that contains all the genetic information necessary\n",
    "- We add `device` and fitness dictionaries as member variables"
   ]
  },
  {
   "cell_type": "code",
   "execution_count": 25,
   "metadata": {},
   "outputs": [
    {
     "name": "stdout",
     "output_type": "stream",
     "text": [
      "out_channels = 3 <-- (28 x 28)\n",
      "conv_2d (kernel, stride, padding) =\t(3, 1, 1) --> (28 x 28)\n",
      "max_pool_2d (kernel, stride, padding) =\t(2, 2, 0) --> (14 x 14)\n"
     ]
    }
   ],
   "source": [
    "print(inds.Gene_2d_block(IMAGE_WIDTH, 3).toString())"
   ]
  },
  {
   "cell_type": "code",
   "execution_count": 26,
   "metadata": {},
   "outputs": [
    {
     "data": {
      "text/plain": [
       "(NN_individual(\n",
       "   (blocks_2d): Sequential()\n",
       "   (flatten): Flatten(start_dim=1, end_dim=-1)\n",
       "   (lazyLin): Linear(in_features=784, out_features=10, bias=True)\n",
       "   (loss_fn): CrossEntropyLoss()\n",
       " ),\n",
       " tensor([[ 0.2120, -0.7350,  1.4811,  0.0523, -0.5865,  0.5429, -0.4140, -0.0915,\n",
       "          -0.3131,  0.1338]], device='cuda:0', grad_fn=<AddmmBackward0>))"
      ]
     },
     "execution_count": 26,
     "metadata": {},
     "output_type": "execute_result"
    }
   ],
   "source": [
    "testIndividual = inds.NN_individual(COLOUR_CHANNEL_COUNT, CLASSIFICATION_CATEGORIES_COUNT, device=device)#genes_2d_block=[Gene_2d_block(out_channels=4), Gene_2d_block(out_channels=7)])\n",
    "testIndividual, testIndividual(testX)"
   ]
  },
  {
   "cell_type": "markdown",
   "metadata": {},
   "source": [
    "### Bundling Multiple `NN_individual`s Into a Population\n",
    "Create a class called population of which an instance acts as an array of `NN_individual`s with extra functionality that regards the whole population."
   ]
  },
  {
   "cell_type": "code",
   "execution_count": 27,
   "metadata": {},
   "outputs": [],
   "source": [
    "# created by Chat\n",
    "class NN_population:\n",
    "    ### Magic Methods ###\n",
    "    def __init__(self, individuals: list[inds.NN_individual]): self.individuals = individuals\n",
    "    def __getitem__(self, index): return self.individuals[index]  # magic pop[i] access\n",
    "    def __len__(self): return len(self.individuals)  # magic len(pop)\n",
    "    def __setitem__(self, index, value): self.individuals[index] = value  # magic pop[i] = value\n",
    "    def __iter__(self): return iter(self.individuals)  # magic for-iterations\n",
    "    \n",
    "    def plot_accs(self, elapsed_time = 0):\n",
    "        plt.figure(figsize=(15, 6))  # Set the figure size\n",
    "        for ind in sorted(self.individuals, key=lambda ind: ind.running_acc, reverse=True):\n",
    "            x = list(ind.accs.keys())  # Extract the epoch/batch labels (x-axis)\n",
    "            y = [float(val.cpu().item()*100) for val in ind.accs.values()]  # Convert tensors to floats\n",
    "            # Plot each individual's accuracies\n",
    "            plt.plot(x, y, marker='o', linestyle='-', label=f\"{ind.name} [{ind.dna.toString()}] ({ind.running_acc:.2f} within {ind.elapsed_training_time:.1f}s)\")\n",
    "        plt.xlabel('Epoch@Batch')  # Label for the x-axis\n",
    "        plt.ylabel('Accuracy [%]')     # Label for the y-axis\n",
    "        extra_title = \"\" if elapsed_time == 0 else f\" (took {elapsed_time:.2f}s)\"\n",
    "        plt.title('Accuracy per Epoch and Batch' + extra_title)  # Title of the plot\n",
    "        plt.xticks(rotation=45, ha='right')  # Rotate the x-axis labels for better readability\n",
    "        plt.grid(True)  # Show grid\n",
    "        plt.legend(loc='upper left', bbox_to_anchor=(1, 1)) # legend on the right\n",
    "        plt.tight_layout(rect=[0, 0, 0.85, 1])  # Adjust plot area size to leave space for the legend\n",
    "        plt.show()"
   ]
  },
  {
   "cell_type": "markdown",
   "metadata": {},
   "source": [
    "### Create Random Population"
   ]
  },
  {
   "cell_type": "code",
   "execution_count": 28,
   "metadata": {},
   "outputs": [],
   "source": [
    "import random"
   ]
  },
  {
   "cell_type": "code",
   "execution_count": 29,
   "metadata": {},
   "outputs": [],
   "source": [
    "def create_random_2d_block(input_image_size, max_kernel_size: int) -> inds.Gene_2d_block:\n",
    "    conv_kernel_size=min(random.randint(1,min(input_image_size, max_kernel_size)), random.randint(1,min(input_image_size, max_kernel_size))) # kernel must be smaller than image size!\n",
    "    conv_stride=random.randint(1,conv_kernel_size)\n",
    "    conv_padding=random.randint(0,conv_kernel_size//2) # PyTorch: \"pad should be at most half of effective kernel size\"\n",
    "    after_conv_i_s = inds.output_size(input_image_size, conv_kernel_size, conv_stride, conv_padding)\n",
    "    pool_kernel_size=min(random.randint(1,min(after_conv_i_s, max_kernel_size)), random.randint(1,min(after_conv_i_s, max_kernel_size)), random.randint(1,min(after_conv_i_s, max_kernel_size)))\n",
    "    if conv_kernel_size == 0 or pool_kernel_size == 0:\n",
    "        print(\"Exception! A kernel size is 0, which is not allowed.\")\n",
    "        print(f\"input_image_size {input_image_size}, max_kernel_size {max_kernel_size}, conv_kernel_size {conv_kernel_size}, conv_stride {conv_stride}, conv_padding {conv_padding}, after_conv_image_size {after_conv_i_s}, pool_kernel_size {pool_kernel_size}\")\n",
    "    pool_stride=max(random.randint(1,pool_kernel_size), random.randint(1,pool_kernel_size))\n",
    "    pool_padding=random.randint(0,pool_kernel_size//2) # PyTorch: \"pad should be at most half of effective kernel size\"\n",
    "    return inds.Gene_2d_block(\n",
    "        input_image_size=input_image_size,\n",
    "        out_channels=random.randint(3,15), # not fine-tuned\n",
    "        conv_kernel_size=conv_kernel_size,\n",
    "        conv_padding=conv_padding,\n",
    "        conv_stride=conv_stride,\n",
    "        pool_kernel_size=pool_kernel_size,\n",
    "        pool_padding=pool_padding,\n",
    "        pool_stride=pool_stride\n",
    "    )\n",
    "\n",
    "def update_and_check_2d_block_stack(gene_2d_blocks: list[inds.Gene_2d_block]):\n",
    "    protocol = \"\"\n",
    "    if len(gene_2d_blocks) == 0: return \"no block in the stack\"\n",
    "    if gene_2d_blocks[0].input_image_size != IMAGE_HEIGHT:\n",
    "        gene_2d_blocks[0].input_image_size != IMAGE_HEIGHT\n",
    "        protocol += f\"block[0]'s input_image_size was set to IMAGE_HEIGHT ({IMAGE_HEIGHT}), \" \n",
    "    for i, block in enumerate(gene_2d_blocks):\n",
    "        if i > 0 and block.input_image_size != gene_2d_blocks[i-1].output_image_size:\n",
    "            block.input_image_size = gene_2d_blocks[i-1].output_image_size\n",
    "            protocol += f\"block[{i}]'s input_image_size was set to block[{i-1}]'s output_image_size ({block.input_image_size}), \"\n",
    "            block.after_conv_image_size = inds.output_size(block.input_image_size, block.conv_kernel_size, block.conv_stride, block.conv_padding) # update the effective image size after convolution\n",
    "        if block.input_image_size < block.conv_kernel_size:\n",
    "            block.conv_kernel_size = block.input_image_size\n",
    "            protocol += f\"block[{i}]'s conv_kernel_size was decreased to input_image_size ({block.conv_kernel_size}), \"\n",
    "        if block.conv_padding > block.conv_kernel_size // 2:\n",
    "            block.conv_padding = block.conv_kernel_size // 2\n",
    "            protocol += f\"block[{i}]'s conv_padding was decreased to conv_kernel_size//2 ({block.conv_kernel_size // 2}), \"\n",
    "        if block.after_conv_image_size < block.pool_kernel_size:\n",
    "            block.pool_kernel_size = block.after_conv_image_size\n",
    "            protocol += f\"block[{i}]'s pool_kernel_size was decreased to after_conv_size ({block.pool_kernel_size}), \"\n",
    "        if block.pool_padding > block.pool_kernel_size // 2:\n",
    "            block.pool_padding = block.pool_kernel_size // 2\n",
    "            protocol += f\"block[{i}]'s pool_padding was decreased to pool_kernel_size//2 ({block.pool_kernel_size // 2}), \"\n",
    "    return protocol\n",
    "    \n",
    "def create_random_population(pop_size: int, \n",
    "                             max_2d_block_count: int = 3, \n",
    "                             max_kernel_size: int = 11,\n",
    "                             name_prefix=\"nn\",\n",
    "                             device=device,\n",
    "                             print_summary: bool = True) -> NN_population:\n",
    "    population = []\n",
    "    for i in range(pop_size):\n",
    "        genes_2d_block = []\n",
    "        input_image_size = IMAGE_HEIGHT # = IMAGE_WIDTH (assumed)\n",
    "        name=name_prefix+str(i)\n",
    "        if print_summary: print(f\"Individual '{name}' <-- ({input_image_size} x {input_image_size})\")\n",
    "        for j in range(random.randint(1, max_2d_block_count)):\n",
    "            if print_summary: print(f\"\\tBlock {j}\")\n",
    "            # create a random conv-pool block and store the corresponding new input_image_size for the block thereafter\n",
    "            block = create_random_2d_block(input_image_size, max_kernel_size)\n",
    "            input_image_size = block.output_image_size\n",
    "            genes_2d_block.append(block)\n",
    "            if print_summary: print(f\"{block.toString(tab_count=2)} --> ({input_image_size} x {input_image_size})\")\n",
    "        dna = inds.NN_dna(blocks_2d=genes_2d_block,\n",
    "                     loss_fn=random.randrange(len(inds.NN_dna.loss_fn_dict)),\n",
    "                     optimizer=random.randrange(len(inds.NN_dna.optimizer_dict)),\n",
    "                    # here you can change the remaining hyperparameters\n",
    "                    )\n",
    "        population.append(inds.NN_individual(COLOUR_CHANNEL_COUNT, CLASSIFICATION_CATEGORIES_COUNT, dna=dna, name=name, device=device))\n",
    "    return NN_population(population)\n",
    "testPop = create_random_population(pop_size=7, max_2d_block_count=3, print_summary=False)\n",
    "try:\n",
    "    for ind in testPop:\n",
    "        ind.eval()\n",
    "        with torch.inference_mode():\n",
    "            ind(testX)\n",
    "except:\n",
    "    print(\"oh, oh! exception\")"
   ]
  },
  {
   "cell_type": "markdown",
   "metadata": {},
   "source": [
    "### Fitness Evaluation\n",
    "We want a population that:\n",
    "- achieves high (validation/test data) accuracy after training\n",
    "    - the final accuracy `acc(NN1(t_final))` of an individual `NN1` is used\n",
    "- trains fast, i.e. takes little CPU time to achieve high accuracy called **Running Accuracy**\n",
    "    - the individual's accuracy `acc(NN1(t))` is summed over given timestamps `t`, like `Σ_t{acc(NN1(t))}`\n",
    "    - possibly we want to value early accuracy more, summing `Σ_t{acc(NN1(t))/t}` instead"
   ]
  },
  {
   "cell_type": "code",
   "execution_count": 30,
   "metadata": {},
   "outputs": [],
   "source": [
    "import torchmetrics\n",
    "from torchmetrics import functional\n",
    "import time\n",
    "import torch.nn.functional as F"
   ]
  },
  {
   "cell_type": "code",
   "execution_count": 31,
   "metadata": {},
   "outputs": [],
   "source": [
    "def train_model_one_batch(ind: inds.NN_individual,       # <- model to be trained in-place\n",
    "                          X, y,                     # <- train batch, e.g. X.shape = [32, 1, 28, 28]\n",
    "                          ) -> tuple[float, float]: # -> return (train_loss, time that training took)\n",
    "  train_loss = 0\n",
    "  start_time = time.perf_counter() # Start timing\n",
    "  ind.train()\n",
    "  X, y = X.to(ind.device), y.to(ind.device)\n",
    "  y_pred = ind(X)\n",
    "  if inds.NN_dna.loss_fn_dict[ind.dna.loss_fn_gene]['1hot']: # <- does the loss_fn need one-hot encoding?\n",
    "    loss = ind.loss_fn(y_pred, F.one_hot(y, num_classes=CLASSIFICATION_CATEGORIES_COUNT).float())\n",
    "  else:\n",
    "    loss = ind.loss_fn(y_pred, y)\n",
    "  train_loss += loss\n",
    "  ind.optimizer.zero_grad()\n",
    "  loss.backward()\n",
    "  ind.optimizer.step()\n",
    "  end_time = time.perf_counter() # Stop timing\n",
    "  return (train_loss, end_time-start_time)\n",
    "\n",
    "def test_model(ind: inds.NN_individual,            # <- model to be tested\n",
    "               test_dl,                       # <- test dataloader (= multiple batches)\n",
    "               ) -> tuple[float, float]:      # -> return (loss_total, acc_total)\n",
    "  loss_total, acc_total = 0, 0\n",
    "  ind.eval()\n",
    "  with torch.inference_mode():\n",
    "    for batch, (X, y) in enumerate(test_dl):\n",
    "      X, y = X.to(ind.device), y.to(ind.device)\n",
    "      preds = ind(X)\n",
    "      if inds.NN_dna.loss_fn_dict[ind.dna.loss_fn_gene]['1hot']: # <- does the loss_fn need one-hot encoding?\n",
    "        loss_batch = ind.loss_fn(preds, F.one_hot(y, num_classes=CLASSIFICATION_CATEGORIES_COUNT).float())\n",
    "      else:\n",
    "        loss_batch = ind.loss_fn(preds, y)\n",
    "      loss_total += loss_batch\n",
    "      acc_batch = functional.accuracy(preds, y, task=\"multiclass\", num_classes=CLASSIFICATION_CATEGORIES_COUNT)\n",
    "      acc_total += acc_batch\n",
    "\n",
    "    loss_total /= len(test_dl)\n",
    "    acc_total /= len(test_dl)\n",
    "  return (loss_total, acc_total)"
   ]
  },
  {
   "cell_type": "markdown",
   "metadata": {},
   "source": [
    "We now train the whole population simultaneously, populating the individuals' fitness value parameters:\n",
    "- `train_losses` ... a dictionary filled with the train loss function results for each batch (independent of how often we test, because it comes for free)\n",
    "- `test_losses` ... same as above but evaluating on test data instead, and only whenever we choose to test (obviously; this is not free)\n",
    "- `accs` ... a dictionary with same keys as `test_losses`, filled with the fraction of correct model predictions by total number of predictions\n",
    "- `acc` ... a single number - the most recent accuracy (defined similarly as `accs`)\n",
    "- `running_acc` ... a single number - the sum of all known accuracies (i.e. at all times where we tested), divided by the time\n",
    "    - here, we exclude the first accuracy because the division is very big in that case, and accuracy only depends mainly on weight initialization"
   ]
  },
  {
   "cell_type": "code",
   "execution_count": 32,
   "metadata": {},
   "outputs": [],
   "source": [
    "from tqdm import tqdm\n",
    "from torch.utils.data import Subset\n",
    "from IPython.display import clear_output\n",
    "from torch.utils.data import DataLoader"
   ]
  },
  {
   "cell_type": "code",
   "execution_count": 33,
   "metadata": {},
   "outputs": [],
   "source": [
    "def train_and_evaluate_gen(pop: NN_population,\n",
    "                           train_dl,  # <- train dataloader\n",
    "                           test_dl,   # <- test dataloader\n",
    "                           testing_interval = 300,      # <- after how many batches should we test an individual\n",
    "                           testing_data_fraction = 1.0, # <- amount of test_dl to be used (1=100% takes a lot of time)\n",
    "                           training_data_fraction = 1.0,# <- amount of train_dl to be used (1=100% takes a lot of time)\n",
    "                           epochs = 5,\n",
    "                           live_plot = True,\n",
    "                           only_last_plot = False,\n",
    "                           no_plot = False):\n",
    "  start_time = time.perf_counter() # Start timing\n",
    "\n",
    "  # prepare the reduced testing data loader\n",
    "  random_batch_indices = random.sample(range(len(test_dl)), int(len(test_dl) * testing_data_fraction)) # random indices (without replacement)\n",
    "  test_subset = Subset(test_dl.dataset, random_batch_indices)\n",
    "  test_subset_dl = DataLoader(test_subset, batch_size=test_dl.batch_size, shuffle=False, num_workers=test_dl.num_workers)\n",
    "\n",
    "  # prepare the reduced training data loader ()\n",
    "  first_indices = list(range(int(len(train_dl)*train_dl.batch_size * training_data_fraction)))\n",
    "  train_subset = Subset(train_dl.dataset, first_indices)\n",
    "  train_subset_dl = DataLoader(train_subset, batch_size=train_dl.batch_size, shuffle=False, num_workers=train_dl.num_workers)\n",
    "\n",
    "  # re-initialize pop's fitness values:\n",
    "  for ind in pop:\n",
    "    ind.acc, ind.running_acc = 0, 0\n",
    "    ind.train_losses, ind.test_losses, ind.accs = {}, {}, {}\n",
    "  \n",
    "  # train each individual \"simultaneously\" by making the epoch-loop the outer one\n",
    "  for epoch in range(epochs):\n",
    "    print(f\"*** Commencing epoch {epoch+1} / {epochs} for {len(pop)} individuals, one line each. ***\")\n",
    "    for i in range(len(pop)):\n",
    "      for batch, (X, y) in tqdm(enumerate(train_subset_dl),desc=f\"{i+1}. {pop[i].name} [{pop[i].dna.toString()}]\"):\n",
    "        # train the model (update the weights and biases of the NN pop[i])\n",
    "        pop[i].train_losses[f\"e_{epoch}@b_{batch}\"], elapsed_batch_training_time = train_model_one_batch(pop[i], X=X, y=y)\n",
    "        pop[i].elapsed_training_time += elapsed_batch_training_time\n",
    "        if batch % testing_interval == 0: \n",
    "          # test the model and store the results\n",
    "          pop[i].test_losses[f\"e_{epoch}@b_{batch}\"], pop[i].accs[f\"e_{epoch}@b_{batch}\"] = test_model(pop[i], test_dl=test_subset_dl)\n",
    "          if batch != 0: # don't use the start/benchmark test as this depends mostly on luck of weight initialization\n",
    "            pop[i].running_acc += pop[i].accs[f\"e_{epoch}@b_{batch}\"] / pop[i].elapsed_training_time\n",
    "          if live_plot and not only_last_plot and not no_plot:\n",
    "            clear_output(wait=True)\n",
    "            pop.plot_accs(time.perf_counter() - start_time)\n",
    "      pop[i].test_losses[f\"e_{epoch}@end\"], pop[i].accs[f\"e_{epoch}@end\"] = test_model(pop[i], test_dl=test_dl) # latest precise values\n",
    "      pop[i].acc = pop[i].accs[f\"e_{epoch}@end\"] # store the very last known accuracy\n",
    "      if not live_plot and not only_last_plot and not no_plot:\n",
    "        clear_output(wait=True)\n",
    "        pop.plot_accs(time.perf_counter() - start_time)\n",
    "    # here we could select directly, i.e. before the whole train_dl over max_epochs no. of iterations has been trained\n",
    "\n",
    "  if not no_plot and not only_last_plot:\n",
    "    clear_output(wait=True)\n",
    "    pop.plot_accs(time.perf_counter() - start_time)\n",
    "  elif not no_plot and only_last_plot:\n",
    "    pop.plot_accs(time.perf_counter() - start_time)\n",
    "  else:  \n",
    "    print(f\"This took {time.perf_counter() - start_time:.2f}s.\")\n",
    "      "
   ]
  },
  {
   "cell_type": "markdown",
   "metadata": {},
   "source": [
    "### Mutate\n",
    "Should be guided by randomness, and not too radical.\n",
    "1. Fix a bound of *radicalities* fixed at 1.\n",
    "2. Each possible operation of mutation needs to come with a *factor of impact* **λ**\n",
    "    - e.g. delete/add 2d block: **λ = 5**\n",
    "    - e.g. learning rate times 1.1: **λ = 0.5**\n",
    "3. Now we spin the wheels for each call of `mutate_individual`:\n",
    "    - random radicality **0 < R < 1**\n",
    "    - random raw likelihood **0 < p < 1** for each possible operation\n",
    "    - execute an operation iff **λ•p < R** where **λ** and **p** correspond to the operation in question"
   ]
  },
  {
   "cell_type": "code",
   "execution_count": 34,
   "metadata": {},
   "outputs": [],
   "source": [
    "import copy"
   ]
  },
  {
   "cell_type": "code",
   "execution_count": 35,
   "metadata": {},
   "outputs": [],
   "source": [
    "MAX_KERNEL_SIZE = 11\n",
    "class Mutation():\n",
    "    def __init__(self):\n",
    "        self.R = random.random() # <- radicality of this mutation instance\n",
    "\n",
    "    ### factors of impact ###\n",
    "    impact_lr_factor_1_1=.3\n",
    "    impact_lr_factor_10=3\n",
    "    impact_add_neuron_to_2d_block=1\n",
    "    impact_delete_neuron_from_2d_block=1\n",
    "    impact_add_2d_block=5\n",
    "    impact_delete_2d_block=5\n",
    "    impact_increase_kernel=.8\n",
    "    impact_decrease_kernel=.8\n",
    "    impact_change_optimizer=5\n",
    "    impact_change_loss_fn=5\n",
    "\n",
    "    ### possible operations (p_raw = 0 will happen most likely, p_raw = 1 least likely, p_raw = -1 definitely) ###\n",
    "    def lr_factor_1_1(self, dna: inds.NN_dna, p_raw: float = -1):\n",
    "        if p_raw * self.impact_lr_factor_1_1 < self.R:\n",
    "            if random.random() > .5:\n",
    "                dna.lr *= 1.1\n",
    "                return \"multiplied lr by 1.1\"\n",
    "            else:\n",
    "                dna.lr /= 1.1\n",
    "                return \"divided lr by 1.1\"\n",
    "    def lr_factor_10(self, dna: inds.NN_dna, p_raw: float = -1):\n",
    "        if p_raw * self.impact_lr_factor_10 < self.R:\n",
    "            if random.random() > .5:\n",
    "                dna.lr *= 10\n",
    "                return \"multiplied lr by 10\"\n",
    "            else:\n",
    "                dna.lr /= 10\n",
    "                return \"divided lr by 10\"\n",
    "    def add_neuron_to_2d_block(self, dna: inds.NN_dna, p_raw: float = -1):\n",
    "        if p_raw * self.impact_add_neuron_to_2d_block < self.R:\n",
    "            if len(dna.blocks_2d_gene) == 0: return None\n",
    "            layer_nr = random.randrange(0, len(dna.blocks_2d_gene))\n",
    "            dna.blocks_2d_gene[layer_nr].out_channels += 1\n",
    "            return f\"added neuron to 2d block no. {layer_nr}\"\n",
    "    def delete_neuron_from_2d_block(self, dna: inds.NN_dna, p_raw: float = -1):\n",
    "        if p_raw * self.impact_delete_neuron_from_2d_block < self.R:\n",
    "            if len(dna.blocks_2d_gene) == 0: return None\n",
    "            layer_nr = random.randrange(0, len(dna.blocks_2d_gene))\n",
    "            if dna.blocks_2d_gene[layer_nr].out_channels > 1: dna.blocks_2d_gene[layer_nr].out_channels -= 1\n",
    "            return f\"deleted neuron from 2d block no. {layer_nr}\"\n",
    "    def add_2d_block(self, dna: inds.NN_dna, p_raw: float = -1):\n",
    "        if p_raw * self.impact_add_2d_block < self.R:\n",
    "            layer_nr = random.randrange(0, len(dna.blocks_2d_gene) + 1)\n",
    "            input_image_size = IMAGE_WIDTH if layer_nr == 0 else dna.blocks_2d_gene[layer_nr-1].output_image_size\n",
    "            dna.blocks_2d_gene.insert(layer_nr, create_random_2d_block(input_image_size, MAX_KERNEL_SIZE))\n",
    "            protocol = update_and_check_2d_block_stack(dna.blocks_2d_gene) # check whether this insertion \"killed\" the entity (and if yes: repair it)\n",
    "            return f\"added block @ {layer_nr} ({protocol})\"\n",
    "    def delete_2d_block(self, dna: inds.NN_dna, p_raw: float = -1):\n",
    "        if p_raw * self.impact_delete_2d_block < self.R:\n",
    "            if len(dna.blocks_2d_gene) == 0: return None\n",
    "            layer_nr = random.randrange(0, len(dna.blocks_2d_gene))\n",
    "            dna.blocks_2d_gene.pop(layer_nr)\n",
    "            protocol = update_and_check_2d_block_stack(dna.blocks_2d_gene) # check whether this deletion \"killed\" the entity (and if yes: repair it)\n",
    "            return f\"deleted 2d block at {layer_nr} ({protocol})\"\n",
    "    def increase_kernel(self, dna: inds.NN_dna, p_raw: float = -1):\n",
    "        if p_raw * self.impact_increase_kernel < self.R:\n",
    "            if len(dna.blocks_2d_gene) == 0: return None\n",
    "            layer_nr = random.randrange(0, len(dna.blocks_2d_gene))\n",
    "            if random.random() > .5:\n",
    "                if dna.blocks_2d_gene[layer_nr].conv_kernel_size < dna.blocks_2d_gene[layer_nr].input_image_size: # check whether the kernel may be increased\n",
    "                    dna.blocks_2d_gene[layer_nr].conv_kernel_size += 1\n",
    "                    return f\"conv kernel += 1 of 2d block no. {layer_nr}\"\n",
    "            else:\n",
    "                if dna.blocks_2d_gene[layer_nr].pool_kernel_size < dna.blocks_2d_gene[layer_nr].after_conv_image_size:\n",
    "                    dna.blocks_2d_gene[layer_nr].pool_kernel_size += 1\n",
    "                    return f\"pool kernel +=1 of 2d block no. {layer_nr}\"\n",
    "    def decrease_kernel(self, dna: inds.NN_dna, p_raw: float = -1):\n",
    "        if p_raw * self.impact_decrease_kernel < self.R:\n",
    "            if len(dna.blocks_2d_gene) == 0: return None\n",
    "            layer_nr = random.randrange(0, len(dna.blocks_2d_gene))\n",
    "            if random.random() > .5:\n",
    "                if dna.blocks_2d_gene[layer_nr].conv_kernel_size > 1 and dna.blocks_2d_gene[layer_nr].conv_padding*2 < dna.blocks_2d_gene[layer_nr].conv_kernel_size:\n",
    "                    dna.blocks_2d_gene[layer_nr].conv_kernel_size -= 1\n",
    "                    return f\"conv kernel -= 1 of 2d block no. {layer_nr}\"\n",
    "            else:\n",
    "                if dna.blocks_2d_gene[layer_nr].pool_kernel_size > 1 and dna.blocks_2d_gene[layer_nr].pool_padding*2 < dna.blocks_2d_gene[layer_nr].pool_kernel_size:\n",
    "                    dna.blocks_2d_gene[layer_nr].pool_kernel_size -= 1\n",
    "                    return f\"pool kernel -= 1 of 2d block no. {layer_nr}\"\n",
    "    def change_optimizer(self, dna: inds.NN_dna, p_raw: float = -1):\n",
    "        if p_raw * self.impact_change_optimizer < self.R:\n",
    "            optimizer_index = random.randrange(0, len(inds.NN_dna.optimizer_dict))\n",
    "            if optimizer_index == dna.optimizer_gene: return None\n",
    "            dna.optimizer_gene = optimizer_index\n",
    "            return f\"changed optimizer to {inds.NN_dna.optimizer_dict[optimizer_index]}\"\n",
    "    def change_loss_fn(self, dna: inds.NN_dna, p_raw: float = -1):\n",
    "        if p_raw * self.impact_change_loss_fn < self.R:\n",
    "            loss_fn_index = random.randrange(0, len(inds.NN_dna.loss_fn_dict))\n",
    "            if loss_fn_index == dna.loss_fn_gene: return None\n",
    "            dna.loss_fn_gene = loss_fn_index\n",
    "            return f\"changed loss function to {inds.NN_dna.loss_fn_dict[loss_fn_index]['name']}\"\n",
    "\n",
    "def mutant_from_dna(dna_parent: inds.NN_dna, print_actions: bool = True, mutant_name = \"NN\", device = device) -> inds.NN_individual:\n",
    "    # clone the dna (to not change the parent's dna)\n",
    "    dna_mutant = copy.deepcopy(dna_parent) \n",
    "\n",
    "    # create a test batch (to check wether the mutant is still \"alive\")\n",
    "    test_batch = torch.rand(MINI_BATCH_SIZE, COLOUR_CHANNEL_COUNT, IMAGE_WIDTH, IMAGE_HEIGHT).to(device)\n",
    "\n",
    "    # create a mutation instance (this produces a radicality R)\n",
    "    m = Mutation()\n",
    "    if print_actions: print(f\"Radicality in creation of '{mutant_name}': {m.R:.2g}\")\n",
    "\n",
    "    # Dynamically loop over all functions of the Mutation class\n",
    "    for method_name in dir(m): # Loop through all attributes of the class\n",
    "        if callable(getattr(m, method_name)) and not method_name.startswith(\"__\"): # Filter to only functions (ignoring private methods and attributes)\n",
    "            p_raw = random.random() # raw likelihood\n",
    "            operation = getattr(m, method_name)\n",
    "            mutation_healthy, deaths = False, 0\n",
    "            while not mutation_healthy:\n",
    "                dna_before_mutation = copy.deepcopy(dna_mutant) # clone the dna (to not change the parent's dna)\n",
    "                effect = operation(dna_mutant, p_raw) # execute the operation\n",
    "                mutant = inds.NN_individual(COLOUR_CHANNEL_COUNT, CLASSIFICATION_CATEGORIES_COUNT, dna_mutant, mutant_name, device)\n",
    "                try: \n",
    "                    mutant(test_batch)\n",
    "                    mutation_healthy = True\n",
    "                except Exception as e:\n",
    "                    if print_actions: print(f\"\\tLETHAL MUTATION ({effect}) (e: '{e}')\")\n",
    "                    dna_mutant = dna_before_mutation # restore to the state before lethal operation\n",
    "                    deaths += 1\n",
    "                    if deaths > 10: raise Exception(\"Too many deaths.\")\n",
    "            if effect != None and print_actions: print(f\"- {effect}\")\n",
    "    return mutant"
   ]
  },
  {
   "cell_type": "markdown",
   "metadata": {},
   "source": [
    "### GP Run\n",
    "1. Create a random population of given POP_SIZE\n",
    "2. `train_and_evaluate_gen` for one epoch\n",
    "3. choose the half of `NN_individual`s that has the best `running_acc`\n",
    "4. mutate each chosen NN **twice**\n",
    "5. continue at *2.* unless you are already at gen FINAL_GEN"
   ]
  },
  {
   "cell_type": "code",
   "execution_count": 36,
   "metadata": {},
   "outputs": [],
   "source": [
    "import pandas as pd\n",
    "import matplotlib.cm as cm\n",
    "from matplotlib.colors import LinearSegmentedColormap\n",
    "pd.set_option('display.expand_frame_repr', False)"
   ]
  },
  {
   "cell_type": "code",
   "execution_count": 37,
   "metadata": {},
   "outputs": [],
   "source": [
    "def return_evolution_df(gens: list[NN_population]):\n",
    "    inds = sorted([gens[i][j] for i in range(len(gens)) for j in range(len(gens[i]))], key=lambda ind: ind.name) # all individuals of all generations, sorted by name\n",
    "    rows = []\n",
    "    for ind in inds:\n",
    "        rows.append([ind.name, '['+ind.dna.toString()+']', ind.running_acc, ind.acc.item()*100, f\"{ind.elapsed_training_time:.2f}s\"])\n",
    "    df = pd.DataFrame(rows, columns=['Name','DNA','running_acc','acc','training time'])#.sort_values(by='running_acc',ascending=False)\n",
    "    cmap_bad_good = LinearSegmentedColormap.from_list(\"custom_map\", [\"darkred\", \"white\", \"green\"])\n",
    "    df_styled = df.style.background_gradient(cmap_bad_good).format({'running_acc':\"{:.3g}\",'acc':\"{:.1f}\"}).set_properties(**{'text-align': 'left'})\n",
    "\n",
    "    return df_styled\n"
   ]
  },
  {
   "cell_type": "code",
   "execution_count": 38,
   "metadata": {},
   "outputs": [],
   "source": [
    "def plot_generations(gens):\n",
    "    fig, ax = plt.subplots(figsize=(10, 6))\n",
    "\n",
    "    # Store positions for each individual (to create branches)\n",
    "    positions = {}  \n",
    "    branch_lines = []\n",
    "    colors = {}  # To assign a unique color for each initial individual\n",
    "    initial_names = [ind.name for ind in gens[0]]  # Get the names of initial individuals\n",
    "\n",
    "    # Generate a colormap with distinct colors for each initial individual\n",
    "    color_map = plt.colormaps.get_cmap('tab10')  # Get a colormap with enough unique colors\n",
    "\n",
    "    for i, name in enumerate(initial_names):\n",
    "        colors[name] = color_map(i)\n",
    "\n",
    "    # Plot each generation\n",
    "    for i, gen in enumerate(gens):\n",
    "        for ind in gen:\n",
    "            name = ind.name\n",
    "            # Find the root ancestor (initial individual) for this individual\n",
    "            root_name = name.split('.')[0]\n",
    "\n",
    "            # Determine parent (if exists)\n",
    "            parent_name = name.rsplit('.', 1)[0] if '.' in name else None\n",
    "\n",
    "            # Store the current generation and its value for the plot\n",
    "            x = i  # Generation is the x-axis\n",
    "            y = ind.acc.cpu()*100  # Value is the y-axis\n",
    "            \n",
    "            # Add the individual to the positions dict\n",
    "            if name not in positions:\n",
    "                positions[name] = (x, y)\n",
    "\n",
    "            # If the individual has a parent, create a branch line\n",
    "            if parent_name and parent_name in positions:\n",
    "                parent_x, parent_y = positions[parent_name]\n",
    "                branch_lines.append([(parent_x, parent_y), (x, y), root_name])\n",
    "\n",
    "            # Plot the individual as a point (using root_name color)\n",
    "            ax.scatter(x, y, color=colors[root_name])\n",
    "\n",
    "    # Draw the branch lines\n",
    "    for branch in branch_lines:\n",
    "        (x0, y0), (x1, y1), root_name = branch\n",
    "        ax.plot([x0, x1], [y0, y1], color=colors[root_name])\n",
    "\n",
    "    # Create a legend for the initial individuals\n",
    "    handles = [plt.Line2D([0], [0], color=colors[name], lw=2, label=name) for name in initial_names]\n",
    "    ax.legend(handles=handles, title='Lineage', bbox_to_anchor=(1.05, 1), loc='upper left')\n",
    "\n",
    "    # Set labels\n",
    "    ax.set_xlabel(\"Generations\")\n",
    "    ax.set_ylabel(\"Accuracy [%]\")\n",
    "    ax.set_title(\"NN Individual Evolution Across Generations\")\n",
    "\n",
    "    # Show the plot\n",
    "    plt.show()\n"
   ]
  },
  {
   "cell_type": "code",
   "execution_count": 39,
   "metadata": {},
   "outputs": [
    {
     "name": "stdout",
     "output_type": "stream",
     "text": [
      "***** Gen. 1 / 2 *****\n",
      "*** Commencing epoch 1 / 1 for 2 individuals, one line each. ***\n"
     ]
    },
    {
     "name": "stderr",
     "output_type": "stream",
     "text": [
      "1. NN0 [(14) SGD@λ1μ1 Hub@δ=10 | 0.1]: 0it [00:00, ?it/s]"
     ]
    },
    {
     "name": "stderr",
     "output_type": "stream",
     "text": [
      "1. NN0 [(14) SGD@λ1μ1 Hub@δ=10 | 0.1]: 563it [00:04, 122.87it/s]\n",
      "2. NN1 [(13) SGD@λ1μ1 Hub@δ=10 | 0.1]: 563it [00:04, 137.65it/s]\n"
     ]
    },
    {
     "name": "stdout",
     "output_type": "stream",
     "text": [
      "This took 12.04s.\n",
      "Radicality in creation of 'NN1.a': 0.49\n",
      "- added neuron to 2d block no. 0\n",
      "- deleted neuron from 2d block no. 0\n",
      "- divided lr by 1.1\n",
      "Radicality in creation of 'NN1.b': 0.45\n",
      "- added block @ 1 ()\n",
      "- multiplied lr by 1.1\n",
      "***** Gen. 2 / 2 *****\n",
      "*** Commencing epoch 1 / 1 for 2 individuals, one line each. ***\n"
     ]
    },
    {
     "name": "stderr",
     "output_type": "stream",
     "text": [
      "1. NN1.a [(13) SGD@λ1μ1 Hub@δ=10 | 0.091]: 563it [00:04, 139.82it/s]\n",
      "2. NN1.b [(13,13) SGD@λ1μ1 Hub@δ=10 | 0.11]: 563it [00:05, 98.97it/s] \n"
     ]
    },
    {
     "name": "stdout",
     "output_type": "stream",
     "text": [
      "This took 13.70s.\n",
      "******* SUMMARY *******\n"
     ]
    },
    {
     "data": {
      "image/png": "[encoded data removed]",
      "text/plain": [
       "<Figure size 1500x600 with 1 Axes>"
      ]
     },
     "metadata": {},
     "output_type": "display_data"
    },
    {
     "data": {
      "image/png": "[encoded data removed]",
      "text/plain": [
       "<Figure size 1000x600 with 1 Axes>"
      ]
     },
     "metadata": {},
     "output_type": "display_data"
    },
    {
     "data": {
      "text/html": [
       "<style type=\"text/css\">\n",
       "#T_4724f_row0_col0, #T_4724f_row0_col1, #T_4724f_row0_col2, #T_4724f_row0_col4, #T_4724f_row1_col0, #T_4724f_row1_col1, #T_4724f_row1_col2, #T_4724f_row1_col4, #T_4724f_row2_col0, #T_4724f_row2_col1, #T_4724f_row2_col2, #T_4724f_row2_col4, #T_4724f_row3_col0, #T_4724f_row3_col1, #T_4724f_row3_col2, #T_4724f_row3_col4 {\n",
       "  text-align: left;\n",
       "}\n",
       "#T_4724f_row0_col3, #T_4724f_row1_col3, #T_4724f_row2_col3, #T_4724f_row3_col3 {\n",
       "  background-color: #8b0000;\n",
       "  color: #f1f1f1;\n",
       "  text-align: left;\n",
       "}\n",
       "</style>\n",
       "<table id=\"T_4724f\">\n",
       "  <thead>\n",
       "    <tr>\n",
       "      <th class=\"blank level0\" >&nbsp;</th>\n",
       "      <th id=\"T_4724f_level0_col0\" class=\"col_heading level0 col0\" >Name</th>\n",
       "      <th id=\"T_4724f_level0_col1\" class=\"col_heading level0 col1\" >DNA</th>\n",
       "      <th id=\"T_4724f_level0_col2\" class=\"col_heading level0 col2\" >running_acc</th>\n",
       "      <th id=\"T_4724f_level0_col3\" class=\"col_heading level0 col3\" >acc</th>\n",
       "      <th id=\"T_4724f_level0_col4\" class=\"col_heading level0 col4\" >training time</th>\n",
       "    </tr>\n",
       "  </thead>\n",
       "  <tbody>\n",
       "    <tr>\n",
       "      <th id=\"T_4724f_level0_row0\" class=\"row_heading level0 row0\" >0</th>\n",
       "      <td id=\"T_4724f_row0_col0\" class=\"data row0 col0\" >NN0</td>\n",
       "      <td id=\"T_4724f_row0_col1\" class=\"data row0 col1\" >[(14) SGD@λ1μ1 Hub@δ=10 | 0.1]</td>\n",
       "      <td id=\"T_4724f_row0_col2\" class=\"data row0 col2\" >0.934</td>\n",
       "      <td id=\"T_4724f_row0_col3\" class=\"data row0 col3\" >10.0</td>\n",
       "      <td id=\"T_4724f_row0_col4\" class=\"data row0 col4\" >1.37s</td>\n",
       "    </tr>\n",
       "    <tr>\n",
       "      <th id=\"T_4724f_level0_row1\" class=\"row_heading level0 row1\" >1</th>\n",
       "      <td id=\"T_4724f_row1_col0\" class=\"data row1 col0\" >NN1</td>\n",
       "      <td id=\"T_4724f_row1_col1\" class=\"data row1 col1\" >[(13) SGD@λ1μ1 Hub@δ=10 | 0.1]</td>\n",
       "      <td id=\"T_4724f_row1_col2\" class=\"data row1 col2\" >1.19</td>\n",
       "      <td id=\"T_4724f_row1_col3\" class=\"data row1 col3\" >10.0</td>\n",
       "      <td id=\"T_4724f_row1_col4\" class=\"data row1 col4\" >1.23s</td>\n",
       "    </tr>\n",
       "    <tr>\n",
       "      <th id=\"T_4724f_level0_row2\" class=\"row_heading level0 row2\" >2</th>\n",
       "      <td id=\"T_4724f_row2_col0\" class=\"data row2 col0\" >NN1.a</td>\n",
       "      <td id=\"T_4724f_row2_col1\" class=\"data row2 col1\" >[(13) SGD@λ1μ1 Hub@δ=10 | 0.091]</td>\n",
       "      <td id=\"T_4724f_row2_col2\" class=\"data row2 col2\" >1.25</td>\n",
       "      <td id=\"T_4724f_row2_col3\" class=\"data row2 col3\" >10.0</td>\n",
       "      <td id=\"T_4724f_row2_col4\" class=\"data row2 col4\" >1.23s</td>\n",
       "    </tr>\n",
       "    <tr>\n",
       "      <th id=\"T_4724f_level0_row3\" class=\"row_heading level0 row3\" >3</th>\n",
       "      <td id=\"T_4724f_row3_col0\" class=\"data row3 col0\" >NN1.b</td>\n",
       "      <td id=\"T_4724f_row3_col1\" class=\"data row3 col1\" >[(13,13) SGD@λ1μ1 Hub@δ=10 | 0.11]</td>\n",
       "      <td id=\"T_4724f_row3_col2\" class=\"data row3 col2\" >0.741</td>\n",
       "      <td id=\"T_4724f_row3_col3\" class=\"data row3 col3\" >10.0</td>\n",
       "      <td id=\"T_4724f_row3_col4\" class=\"data row3 col4\" >1.90s</td>\n",
       "    </tr>\n",
       "  </tbody>\n",
       "</table>\n"
      ],
      "text/plain": [
       "<pandas.io.formats.style.Styler at 0x7f4d1ad91970>"
      ]
     },
     "execution_count": 39,
     "metadata": {},
     "output_type": "execute_result"
    }
   ],
   "source": [
    "POP_SIZE = 2\n",
    "FINAL_GEN = 2\n",
    "MAX_2D_BLOCK_COUNT = 5\n",
    "MAX_KERNEL_SIZE = 11\n",
    "\n",
    "testing_interval = 100\n",
    "epochs = 1\n",
    "testing_data_fraction = .5\n",
    "train_data_fraction = .3\n",
    "derivatives = ['a','b']\n",
    "\n",
    "gens = []\n",
    "\n",
    "gens.append(create_random_population(POP_SIZE, max_2d_block_count=MAX_2D_BLOCK_COUNT, max_kernel_size=MAX_KERNEL_SIZE, name_prefix=\"NN\", device=device, print_summary=False))\n",
    "while(True):\n",
    "    print(f\"***** Gen. {len(gens)} / {FINAL_GEN} *****\")\n",
    "    train_and_evaluate_gen(gens[-1], fmnist.train_dl, fmnist.test_dl, testing_interval, testing_data_fraction, training_data_fraction=train_data_fraction, epochs=epochs, live_plot=False, only_last_plot=True, no_plot=True)\n",
    "    if len(gens) == FINAL_GEN: break\n",
    "    survivors = sorted(gens[-1], key=lambda ind: ind.running_acc, reverse=True)[:len(gens[-1]) // 2] # pick the top half (w.r.t. running_acc)\n",
    "    gens.append(NN_population([mutant_from_dna(ind.dna, mutant_name=ind.name+\".\"+v, device=device) for ind in survivors for v in derivatives])) # mutate each survivor (as often as len(derivatives))\n",
    "\n",
    "print(f\"******* SUMMARY *******\")\n",
    "NN_population([gens[i][j] for i in range(len(gens)) for j in range(len(gens[i]))]).plot_accs()\n",
    "plot_generations(gens)\n",
    "return_evolution_df(gens)\n"
   ]
  },
  {
   "cell_type": "markdown",
   "metadata": {},
   "source": [
    "TODO:\n",
    "- change the mutation for the lr by using a Gauss distribution weighed by the p_raw and radicality\n",
    "- increase the space of possible mutations / initializations"
   ]
  }
 ],
 "metadata": {
  "kernelspec": {
   "display_name": "Python 3",
   "language": "python",
   "name": "python3"
  },
  "language_info": {
   "codemirror_mode": {
    "name": "ipython",
    "version": 3
   },
   "file_extension": ".py",
   "mimetype": "text/x-python",
   "name": "python",
   "nbconvert_exporter": "python",
   "pygments_lexer": "ipython3",
   "version": "3.12.7"
  }
 },
 "nbformat": 4,
 "nbformat_minor": 2
}
